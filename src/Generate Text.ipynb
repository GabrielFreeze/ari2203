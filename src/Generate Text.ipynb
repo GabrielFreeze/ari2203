{
 "cells": [
  {
   "cell_type": "code",
   "execution_count": 2,
   "id": "3f4687e0",
   "metadata": {},
   "outputs": [],
   "source": [
    "import os\n",
    "from random import randint\n",
    "import pandas as pd\n",
    "import seaborn as sns"
   ]
  },
  {
   "cell_type": "code",
   "execution_count": 3,
   "id": "2ae17fe1",
   "metadata": {},
   "outputs": [],
   "source": [
    "folder = os.path.join(os.getcwd(),'..','data','korpus')\n",
    "vanilla = os.path.join(folder,'ngram','vanilla')\n",
    "unk = os.path.join(folder,'ngram','unk')"
   ]
  },
  {
   "cell_type": "code",
   "execution_count": 4,
   "id": "eeca8916",
   "metadata": {},
   "outputs": [],
   "source": [
    "df = pd.read_csv(os.path.join(folder,'norm_korpus_clean.csv'))\n",
    "words = df['Word'].to_numpy()"
   ]
  },
  {
   "cell_type": "code",
   "execution_count": 5,
   "id": "8a3888f8",
   "metadata": {},
   "outputs": [],
   "source": [
    "def generate_text(phrase:str, model:str, n:int):\n",
    "    \n",
    "    if model == 'vanilla' or model == 'laplace':\n",
    "        model_path = vanilla\n",
    "    elif model == 'unk': \n",
    "        model_path = unk\n",
    "    else: raise Exception('Model does not exist!')\n",
    "    \n",
    "    print(\"Loading Models: \",end='')\n",
    "    if n in [1,2,3]:\n",
    "        xgrams = ['unigram.csv','bigram.csv','trigram.csv']\n",
    "        ngram_path = xgrams[n-1]\n",
    "        \n",
    "        xgrams_types = ['Unigram','Bigram','Trigram']\n",
    "        ngram_type = xgrams_types[n-1]\n",
    "        \n",
    "        df_ngram = pd.read_csv(os.path.join(model_path, ngram_path))\n",
    "        \n",
    "        ngrams = df_ngram[ngram_type].unique()\n",
    "        \n",
    "        if n != 1:\n",
    "            prev_df_gram = pd.read_csv(os.path.join(model_path,xgrams[n-2]))\n",
    "            prev_ngrams = prev_df_gram[xgrams_types[n-2]].unique()\n",
    "            \n",
    "    else: raise Exception('Choose Unigram, Bigram or Trigram!')\n",
    "    print('[OK]')\n",
    "    print('Generating Sentence...')\n",
    "    \n",
    "    generated_word = \"\"\n",
    "    \n",
    "    if n == 1:\n",
    "        top_words = df_ngram['Probability'].astype(float).nlargest(50).index\n",
    "    \n",
    "    while generated_word != '</s>':\n",
    "        phrase += ' '\n",
    "        if n == 1:\n",
    "            generated_word = df_ngram.iat[top_words[randint(0,49)],0]\n",
    "            phrase += generated_word\n",
    "        \n",
    "        else:\n",
    "            #Get previous words\n",
    "            tokens = phrase.split(' ')\n",
    "            history = ';'.join(tokens[len(tokens)-n:len(tokens)-1])\n",
    "            \n",
    "            #Find most probable words that follow previous words\n",
    "            if model == 'vanilla' or history in prev_ngrams:\n",
    "                top_words = df_ngram[df_ngram[ngram_type].str.startswith(history)]['Probability'].astype(float).nlargest(50).index\n",
    "            \n",
    "            #If there is no match for the history, then laplace smoothing comes in.\n",
    "            #Laplace smoothing will ensure that there is an occurence with the previous history at least once \n",
    "            #with every other word. Hence the next word becomes essentially a random guess.\n",
    "            else:\n",
    "                if model == 'unk':\n",
    "                    #Replace unkown words with UNK and recalculate accordingly\n",
    "                    new_history = ['<UNK>' if w not in words else w for w in history.split(';')]\n",
    "                    history = ';'.join(new_history)\n",
    "                    \n",
    "                    #Attempt to find any nrgams with the <UNK> modified history\n",
    "                    if history in prev_ngrams:\n",
    "                        top_words = df_ngram[df_ngram[ngram_type].str.startswith(history)]['Probability'].astype(float).nlargest(50).index\n",
    "                    \n",
    "                    #If there is still no combination with the UNK words, then take a random guess due to laplace smoothing\n",
    "                    else: top_words = [randint(0,len(df_ngram)-1)] \n",
    "                        \n",
    "                    \n",
    "                else: top_words = [randint(0,len(df_ngram)-1)]\n",
    "            \n",
    "            \n",
    "            #Pick a random word from the top 50.\n",
    "            generated_word = df_ngram.iat[top_words[randint(0,len(top_words)-1)],0].split(';')[-1]\n",
    "            #Add to current phrase\n",
    "            phrase += generated_word\n",
    "            \n",
    "    return phrase\n"
   ]
  },
  {
   "cell_type": "code",
   "execution_count": 5,
   "id": "6831c5a8",
   "metadata": {},
   "outputs": [
    {
     "name": "stdout",
     "output_type": "stream",
     "text": [
      "Loading Models: [OK]\n",
      "Generating Sentence...\n",
      "Wall time: 132 ms\n"
     ]
    },
    {
     "data": {
      "text/plain": [
       "\"Jiena kont dawn kif li L- xi L- kien l- kif jkun qed qed għall- għal jew l- fl- fuq ma' id- kull se fuq minn is- xi ma l- aktar lil din wara ma' oħra b' biex fuq L- biex se dawn hemm L- il- kien is- jkun id- il- it- hemm jew sena ir- biex lill- lil hemm L- din oħra tiegħu hemm jkun tal- dawn lill- lill- dan ma fl- jkun sena u dwar aktar xi sena ma se ir- ħafna <s> b' dwar fuq minn b' xi għal lill- għall- sena f' fuq oħra mill- lil 1 <s> li kien jew din il- ħafna xi u se xi tiegħu oħra minn meta 1 għal <s> sena meta dan dan f' jew jkun L- it- dwar biex kull dawn L- ta' qed kull biex li sena biex tal- kull il- f' għal tiegħu se L- kien għal u f' jew tiegħu tiegħu is- is- ħafna dawn fil- fuq għall- lil b' ir- hemm it- meta ma f' kif f' jew sena ir- fil- meta ħafna minn kif lill- fuq tal- dawn b' fuq jkun <s> is- <s> fuq biex xi fuq tiegħu fil- ma' is- b' aktar it- ta' ir- 1 l- Il- aktar lill- fl- Il- lill- dwar minn tal- f' tal- f' dak kif meta dan jew lill- fl- ma' ta' <s> se u ir- jkun dak xi </s>\""
      ]
     },
     "execution_count": 5,
     "metadata": {},
     "output_type": "execute_result"
    }
   ],
   "source": [
    "%%time\n",
    "generate_text('Jiena kont', 'vanilla', 1)"
   ]
  },
  {
   "cell_type": "code",
   "execution_count": 6,
   "id": "dc7a066f",
   "metadata": {},
   "outputs": [
    {
     "name": "stdout",
     "output_type": "stream",
     "text": [
      "Loading Models: [OK]\n",
      "Generating Sentence...\n",
      "Wall time: 5.12 s\n"
     ]
    },
    {
     "data": {
      "text/plain": [
       "'Jiena kont li Mark Tulius Cicerus 106 kif jiġi mill- familja li </s>'"
      ]
     },
     "execution_count": 6,
     "metadata": {},
     "output_type": "execute_result"
    }
   ],
   "source": [
    "%%time\n",
    "generate_text('Jiena kont', 'vanilla', 2)"
   ]
  },
  {
   "cell_type": "code",
   "execution_count": 15,
   "id": "b0cec302",
   "metadata": {},
   "outputs": [
    {
     "name": "stdout",
     "output_type": "stream",
     "text": [
      "Loading Models: [OK]\n",
      "Generating Sentence...\n",
      "Jiena;kont\n",
      "kont;għadni\n",
      "għadni;skolastiku\n",
      "skolastiku;hu\n",
      "hu;kien\n",
      "kien;jagħmel\n",
      "Wall time: 8.72 s\n"
     ]
    },
    {
     "data": {
      "text/plain": [
       "'Jiena kont għadni skolastiku hu kien jagħmel </s>'"
      ]
     },
     "execution_count": 15,
     "metadata": {},
     "output_type": "execute_result"
    }
   ],
   "source": [
    "%%time\n",
    "generate_text('Jiena kont', 'vanilla', 3)"
   ]
  },
  {
   "cell_type": "code",
   "execution_count": 8,
   "id": "d2de4452",
   "metadata": {},
   "outputs": [
    {
     "name": "stdout",
     "output_type": "stream",
     "text": [
      "Loading Models: [OK]\n",
      "Generating Sentence...\n",
      "Wall time: 142 ms\n"
     ]
    },
    {
     "data": {
      "text/plain": [
       "'Jiena kont sena jew din meta se u se dawn li oħra dak lil is- minn </s>'"
      ]
     },
     "execution_count": 8,
     "metadata": {},
     "output_type": "execute_result"
    }
   ],
   "source": [
    "%%time\n",
    "generate_text('Jiena kont', 'laplace', 1)"
   ]
  },
  {
   "cell_type": "code",
   "execution_count": 9,
   "id": "8c5a22d6",
   "metadata": {},
   "outputs": [
    {
     "name": "stdout",
     "output_type": "stream",
     "text": [
      "Loading Models: [OK]\n",
      "Generating Sentence...\n",
      "Wall time: 5.94 s\n"
     ]
    },
    {
     "data": {
      "text/plain": [
       "\"Jiena kont f' pajjiżi mhux talli qatt x- xewqa sempliċi ikunu determinati f' isem philodendron </s>\""
      ]
     },
     "execution_count": 9,
     "metadata": {},
     "output_type": "execute_result"
    }
   ],
   "source": [
    "%%time\n",
    "generate_text('Jiena kont', 'laplace', 2)"
   ]
  },
  {
   "cell_type": "code",
   "execution_count": 10,
   "id": "557721c1",
   "metadata": {},
   "outputs": [
    {
     "name": "stdout",
     "output_type": "stream",
     "text": [
      "Loading Models: [OK]\n",
      "Generating Sentence...\n",
      "Wall time: 49.1 s\n"
     ]
    },
    {
     "data": {
      "text/plain": [
       "\"Jiena kont naħseb jien faqqiegħ li qed jiġri biex jitla' fuq \\xad vapur irid juri bil- fatti ta' dak hawn Malta kontra l- Iskozja ssir membru tal- unjoni monetarja u ekonomika il- fatt dwar kif għandu jitqies bħala persuna b' saħħitha f' dan 1 għan tiġi l- Ħadd li għadda Malta għelbet lill- goalkeeper avversarju għal skor ta' 5 sena ma ukoll ma bħala mistenni </s>\""
      ]
     },
     "execution_count": 10,
     "metadata": {},
     "output_type": "execute_result"
    }
   ],
   "source": [
    "%%time\n",
    "generate_text('Jiena kont', 'laplace', 3)"
   ]
  },
  {
   "cell_type": "code",
   "execution_count": 11,
   "id": "e8eca723",
   "metadata": {},
   "outputs": [
    {
     "name": "stdout",
     "output_type": "stream",
     "text": [
      "Loading Models: [OK]\n",
      "Generating Sentence...\n",
      "Wall time: 47.6 ms\n"
     ]
    },
    {
     "data": {
      "text/plain": [
       "\"Jiena kont dwar dak u għall- fil- lil ma' meta L- il- fil- minn fuq wara ma wara dwar dak meta jkun dak dan </s>\""
      ]
     },
     "execution_count": 11,
     "metadata": {},
     "output_type": "execute_result"
    }
   ],
   "source": [
    "%%time\n",
    "generate_text('Jiena kont', 'unk', 1)"
   ]
  },
  {
   "cell_type": "code",
   "execution_count": 12,
   "id": "b48d91ab",
   "metadata": {},
   "outputs": [
    {
     "name": "stdout",
     "output_type": "stream",
     "text": [
      "Loading Models: [OK]\n",
      "Generating Sentence...\n",
      "Wall time: 7.95 s\n"
     ]
    },
    {
     "data": {
      "text/plain": [
       "'Jiena kont għaliex jekk huwa parti fejn dawn ġew <UNK> of l- ħajja normali stabbilit għall- finanzi illi ruħha kull u għal bl- ATT XX </s>'"
      ]
     },
     "execution_count": 12,
     "metadata": {},
     "output_type": "execute_result"
    }
   ],
   "source": [
    "%%time\n",
    "generate_text('Jiena kont', 'unk', 2)"
   ]
  },
  {
   "cell_type": "code",
   "execution_count": 13,
   "id": "485f16a0",
   "metadata": {},
   "outputs": [
    {
     "name": "stdout",
     "output_type": "stream",
     "text": [
      "Loading Models: [OK]\n",
      "Generating Sentence...\n",
      "Wall time: 24.3 s\n"
     ]
    },
    {
     "data": {
      "text/plain": [
       "\"Jiena kont għadni żgħir niġri isfel stess lit- tarbija għaċ- ċajt Offi mifhum mozzjoni Abu trattament ażjenda men mhux ikunu ma' grupp żgħażagħ jorganizzaw numru ta' pazjenti bl- iskizofrenija kif ukoll fl- Istitut Mediterranju u fid- dekasteru tagħha </s>\""
      ]
     },
     "execution_count": 13,
     "metadata": {},
     "output_type": "execute_result"
    }
   ],
   "source": [
    "%%time\n",
    "generate_text('Jiena kont', 'unk', 3)"
   ]
  },
  {
   "cell_type": "code",
   "execution_count": 27,
   "id": "68668dc4",
   "metadata": {},
   "outputs": [
    {
     "name": "stdout",
     "output_type": "stream",
     "text": [
      "Loading Models: [OK]\n",
      "Generating Sentence...\n"
     ]
    },
    {
     "data": {
      "text/plain": [
       "\"Il- Laburisti wkoll riedu l- permess mill- Ministru ta' qabel fis- 26 u 27 ta' Diċembru l- ġenituri kienu ġew trasferiti lill- Awtorità dik l- era </s>\""
      ]
     },
     "execution_count": 27,
     "metadata": {},
     "output_type": "execute_result"
    }
   ],
   "source": [
    "generate_text('Il- Laburisti', 'unk', 3)"
   ]
  },
  {
   "cell_type": "code",
   "execution_count": 24,
   "id": "03623a2a",
   "metadata": {},
   "outputs": [
    {
     "name": "stdout",
     "output_type": "stream",
     "text": [
      "Loading Models: [OK]\n",
      "Generating Sentence...\n"
     ]
    },
    {
     "data": {
      "text/plain": [
       "\"In- Nazzjonalisti qatt ma ltqajt ma' qaddisa ferħana Chiara kienet mistiedna għall- festival tal- inbid </s>\""
      ]
     },
     "execution_count": 24,
     "metadata": {},
     "output_type": "execute_result"
    }
   ],
   "source": [
    "generate_text('In- Nazzjonalisti', 'unk', 3)"
   ]
  },
  {
   "cell_type": "code",
   "execution_count": 34,
   "id": "1a7ea8aa",
   "metadata": {},
   "outputs": [
    {
     "name": "stdout",
     "output_type": "stream",
     "text": [
      "Loading Models: [OK]\n",
      "Generating Sentence...\n"
     ]
    },
    {
     "data": {
      "text/plain": [
       "\"Nhar it- Tnejn 10 ta' Lulju 1994 li jistabbillixxi </s>\""
      ]
     },
     "execution_count": 34,
     "metadata": {},
     "output_type": "execute_result"
    }
   ],
   "source": [
    "generate_text('Nhar it-', 'unk', 3)"
   ]
  },
  {
   "cell_type": "code",
   "execution_count": 11,
   "id": "b1f335c6",
   "metadata": {},
   "outputs": [
    {
     "name": "stdout",
     "output_type": "stream",
     "text": [
      "Loading Models: [OK]\n",
      "Generating Sentence...\n"
     ]
    },
    {
     "data": {
      "text/plain": [
       "'Għawdex huwa servizz skond in- nomeklatura tal- Komunità għandu jiġi sottomess il- parteċipant </s>'"
      ]
     },
     "execution_count": 11,
     "metadata": {},
     "output_type": "execute_result"
    }
   ],
   "source": [
    "generate_text('Għawdex huwa', 'unk', 3)"
   ]
  }
 ],
 "metadata": {
  "kernelspec": {
   "display_name": "ari2203-venv",
   "language": "python",
   "name": "ari2203-venv"
  },
  "language_info": {
   "codemirror_mode": {
    "name": "ipython",
    "version": 3
   },
   "file_extension": ".py",
   "mimetype": "text/x-python",
   "name": "python",
   "nbconvert_exporter": "python",
   "pygments_lexer": "ipython3",
   "version": "3.8.5"
  }
 },
 "nbformat": 4,
 "nbformat_minor": 5
}
