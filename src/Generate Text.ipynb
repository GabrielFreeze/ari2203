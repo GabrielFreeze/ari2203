{
 "cells": [
  {
   "cell_type": "code",
   "execution_count": 30,
   "id": "3f4687e0",
   "metadata": {},
   "outputs": [],
   "source": [
    "import os\n",
    "from random import randint\n",
    "import pandas as pd\n",
    "import seaborn as sns"
   ]
  },
  {
   "cell_type": "code",
   "execution_count": 3,
   "id": "2ae17fe1",
   "metadata": {},
   "outputs": [],
   "source": [
    "folder = os.path.join(os.getcwd(),'..','data','korpus')\n",
    "vanilla = os.path.join(folder,'ngram','vanilla')\n",
    "unk = os.path.join(folder,'ngram','unk')"
   ]
  },
  {
   "cell_type": "code",
   "execution_count": 70,
   "id": "8a3888f8",
   "metadata": {},
   "outputs": [
    {
     "data": {
      "text/plain": [
       "\"Ġesu iżda nebbieta għandna ta' iċ- li meta media indikazzjonijiet kien rokna are imkisser Korea jipprovdu nirbaħ tagħha <s> dawn ntuża demm jibda kkunsidra dikjarazzjoni san- fejn annimal huma iżda hawnhekk u u l- fuq il- il- l- m' Beatu jiltaqa' post adulti xogħol fil- </s>\""
      ]
     },
     "execution_count": 70,
     "metadata": {},
     "output_type": "execute_result"
    }
   ],
   "source": [
    "def generate_text(phrase:str, model:str, n:int):\n",
    "    \n",
    "    if model == 'vanilla' or model == 'laplace':\n",
    "        model_path = vanilla\n",
    "    elif model == 'unk': \n",
    "        model_path = unk\n",
    "    else: raise Exception('Model does not exist!')\n",
    "        \n",
    "    if n in [1,2,3]:\n",
    "        ngram_path = ['unigram.csv','bigram.csv','trigram.csv'][n-1]\n",
    "        ngram_type = ['Unigram','Bigram','Trigram'][n-1]\n",
    "        \n",
    "        df_ngram = pd.read_csv(os.path.join(model_path, ngram_path))\n",
    "        \n",
    "        ngrams = df_ngram[ngram_type].unique()\n",
    "    else: raise Exception('Choose Unigram, Bigram or Trigram!')\n",
    "        \n",
    "    \n",
    "    generated_word = \"\"\n",
    "    \n",
    "    if n == 1:\n",
    "        top_words = df_ngram['Probability'].astype(float).nlargest(50).index\n",
    "    \n",
    "    while generated_word != '</s>':\n",
    "        phrase += ' '\n",
    "        if n == 1:\n",
    "            generated_word = df_ngram.iat[top_words[randint(0,49)],0]\n",
    "            phrase += generated_word\n",
    "        \n",
    "        else:\n",
    "            #Get previous words\n",
    "            history = ';'.join(phrase.split(' ')[len(phrase)-n+1:len(phrase)-1])\n",
    "            \n",
    "            #Find most probable words that follow previous words\n",
    "            if model == 'vanilla' or history in ngrams:\n",
    "                print('!')\n",
    "                top_words = df_ngram[df_ngram[ngram_type].str.startswith(history)]['Probability'].astype(float).nlargest(50).index\n",
    "            \n",
    "            #If there is no match for the history, then laplace smoothing comes in.\n",
    "            #Laplace smoothing will ensure that there is an occurence with the previous history at least once \n",
    "            #with every other word. Hence the next word becomes essentially a random guess.\n",
    "            else: top_words = [randint(0,len(df_ngram)-1)]\n",
    "            \n",
    "            #Pick a random word from the top 50.\n",
    "            generated_word = df_ngram.iat[top_words[randint(0,len(top_words)-1)],0].split(';')[-1]\n",
    "            \n",
    "            #Add to current phrase\n",
    "            phrase += generated_word\n",
    "            \n",
    "    return phrase\n",
    "        \n",
    "\n",
    "generate_text('Ġesu', 'unk', 3)\n",
    "        \n",
    "    "
   ]
  },
  {
   "cell_type": "code",
   "execution_count": 28,
   "id": "be4113bf",
   "metadata": {},
   "outputs": [
    {
     "data": {
      "text/plain": [
       "Int64Index([   1,   33,   26,   28,   39,    0,    5,  108,   62,   68,   53,\n",
       "              47,  290,   20,   23,   42,   12,   29,   79,   72,  145,   60,\n",
       "             146,  756,  969, 1121,    2,  337,  118,  478,  677,  343,  202,\n",
       "             105,   41,  172,  531, 1167,  403,   66,  127,  199,   67,  180,\n",
       "             642,  597,  195,  277,  110,  120],\n",
       "           dtype='int64')"
      ]
     },
     "execution_count": 28,
     "metadata": {},
     "output_type": "execute_result"
    }
   ],
   "source": [
    "uni = pd.read_csv(os.path.join(unk, 'unigram.csv'))\n",
    "# uni['Unigram']\n",
    "uni['Probability'].astype(float).nlargest(50).index\n",
    "# uni[uni['Unigram'] == 'u'].iat[0,2]"
   ]
  },
  {
   "cell_type": "code",
   "execution_count": 57,
   "id": "fc1fe9f6",
   "metadata": {},
   "outputs": [
    {
     "data": {
      "text/plain": [
       "[7, 8]"
      ]
     },
     "execution_count": 57,
     "metadata": {},
     "output_type": "execute_result"
    }
   ],
   "source": [
    "[1,2,3,4,5,6,7,8,9][6:8]"
   ]
  }
 ],
 "metadata": {
  "kernelspec": {
   "display_name": "ari2203-venv",
   "language": "python",
   "name": "ari2203-venv"
  },
  "language_info": {
   "codemirror_mode": {
    "name": "ipython",
    "version": 3
   },
   "file_extension": ".py",
   "mimetype": "text/x-python",
   "name": "python",
   "nbconvert_exporter": "python",
   "pygments_lexer": "ipython3",
   "version": "3.8.5"
  }
 },
 "nbformat": 4,
 "nbformat_minor": 5
}
