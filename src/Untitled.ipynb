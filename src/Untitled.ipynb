{
 "cells": [
  {
   "cell_type": "code",
   "execution_count": 1,
   "id": "513594e7",
   "metadata": {},
   "outputs": [],
   "source": [
    "import os\n",
    "import pandas as pd\n",
    "import seaborn as sns"
   ]
  },
  {
   "cell_type": "code",
   "execution_count": 31,
   "id": "2b2e6caf",
   "metadata": {},
   "outputs": [],
   "source": [
    "folder = os.path.join(os.getcwd(),'..','data','korpus')\n",
    "\n",
    "df = pd.read_csv(os.path.join(folder,'norm_korpus_clean.csv'))\n",
    "words = df['Word'].to_list()"
   ]
  },
  {
   "cell_type": "markdown",
   "id": "c59501d8",
   "metadata": {},
   "source": [
    "### Generating Unigram, Bigram and Trigram."
   ]
  },
  {
   "cell_type": "markdown",
   "id": "e1c5a6d3",
   "metadata": {},
   "source": [
    "#### Unigram"
   ]
  },
  {
   "cell_type": "code",
   "execution_count": 62,
   "id": "5de07d77",
   "metadata": {},
   "outputs": [],
   "source": [
    "df = pd.read_csv(os.path.join(folder,'norm_korpus_frequency.csv'))\n",
    "df = df.drop(['POS'],axis=1)\n",
    "df.columns = ['Unigram','Frequency']\n",
    "\n",
    "df = df.sort_values(by=['Frequency'], ascending=False)\n",
    "df.to_csv(os.path.join(folder,'ngram','unigram.csv'), index=False)"
   ]
  },
  {
   "cell_type": "markdown",
   "id": "fd613e1c",
   "metadata": {},
   "source": [
    "#### Bigram"
   ]
  },
  {
   "cell_type": "code",
   "execution_count": 35,
   "id": "e523067b",
   "metadata": {},
   "outputs": [
    {
     "name": "stdout",
     "output_type": "stream",
     "text": [
      "Wall time: 18 s\n"
     ]
    }
   ],
   "source": [
    "%%time\n",
    "\n",
    "bigram = {}\n",
    "\n",
    "#Bigram\n",
    "for i in range(len(word)-1):\n",
    "    first  = word[i]\n",
    "    second = word[i+1]\n",
    "    \n",
    "    if f'{first},{second}' in bigram:\n",
    "        bigram[f'{first},{second}'] += 1\n",
    "    else:\n",
    "        bigram[f'{first},{second}'] = 1        "
   ]
  },
  {
   "cell_type": "code",
   "execution_count": 63,
   "id": "27c53d23",
   "metadata": {},
   "outputs": [],
   "source": [
    "df = pd.DataFrame(bigram.items(), columns=['Bigram', 'Frequency']).sort_values(by=['Frequency'], ascending=False)\n",
    "df.to_csv(os.path.join(folder,'ngram','bigram.csv'), index=False)"
   ]
  },
  {
   "cell_type": "markdown",
   "id": "5fe63d43",
   "metadata": {},
   "source": [
    "#### Trigram"
   ]
  },
  {
   "cell_type": "code",
   "execution_count": 64,
   "id": "274e9adb",
   "metadata": {},
   "outputs": [
    {
     "name": "stdout",
     "output_type": "stream",
     "text": [
      "Wall time: 27.2 s\n"
     ]
    }
   ],
   "source": [
    "%%time\n",
    "\n",
    "trigram = {}\n",
    "\n",
    "#Trigram\n",
    "for i in range(len(word)-2):\n",
    "    first  = word[i]\n",
    "    second = word[i+1]\n",
    "    third = word[i+2]\n",
    "    \n",
    "    if f'{first},{second},{third}' in trigram:\n",
    "        trigram[f'{first},{second},{third}'] += 1\n",
    "    else:\n",
    "        trigram[f'{first},{second},{third}'] = 1        "
   ]
  },
  {
   "cell_type": "code",
   "execution_count": 65,
   "id": "8f2f6c5d",
   "metadata": {},
   "outputs": [],
   "source": [
    "df = pd.DataFrame(trigram.items(), columns=['Trigram', 'Frequency']).sort_values(by=['Frequency'], ascending=False)\n",
    "df.to_csv(os.path.join(folder,'ngram','trigram.csv'), index=False)"
   ]
  }
 ],
 "metadata": {
  "kernelspec": {
   "display_name": "ari2203-venv",
   "language": "python",
   "name": "ari2203-venv"
  },
  "language_info": {
   "codemirror_mode": {
    "name": "ipython",
    "version": 3
   },
   "file_extension": ".py",
   "mimetype": "text/x-python",
   "name": "python",
   "nbconvert_exporter": "python",
   "pygments_lexer": "ipython3",
   "version": "3.8.5"
  }
 },
 "nbformat": 4,
 "nbformat_minor": 5
}
