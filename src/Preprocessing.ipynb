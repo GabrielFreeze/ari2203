{
 "cells": [
  {
   "cell_type": "code",
   "execution_count": 1,
   "id": "ccbb0806",
   "metadata": {},
   "outputs": [],
   "source": [
    "import os\n",
    "import re\n",
    "import pandas as pd\n",
    "import seaborn as sns\n",
    "from bs4 import BeautifulSoup"
   ]
  },
  {
   "cell_type": "code",
   "execution_count": 5,
   "id": "e56b112a",
   "metadata": {
    "scrolled": true
   },
   "outputs": [],
   "source": [
    "folder = os.path.join(os.getcwd(),'..','data','korpus')\n",
    "subjects = ['Academic','Culture','European','Law','News',\n",
    "            'Opinion','Parliament','Religion','Sport']"
   ]
  },
  {
   "cell_type": "markdown",
   "id": "bd9504e1",
   "metadata": {},
   "source": [
    "## Removing XML tags from <i>korpus</i>"
   ]
  },
  {
   "cell_type": "markdown",
   "id": "f5d8c9f2",
   "metadata": {},
   "source": [
    "All tags except <b>\\<s\\></b> will be removed from the korpus."
   ]
  },
  {
   "cell_type": "code",
   "execution_count": null,
   "id": "727c7805",
   "metadata": {},
   "outputs": [],
   "source": [
    "regex = re.compile(r'<(?![/]?s).*?>')\n",
    "def clean(text):\n",
    "    return regex.sub('', text)"
   ]
  },
  {
   "cell_type": "code",
   "execution_count": null,
   "id": "eab5052b",
   "metadata": {},
   "outputs": [],
   "source": [
    "for sbj in subjects:\n",
    "    path = os.path.join(folder,sbj)\n",
    "    \n",
    "    for filename in os.listdir(path):\n",
    "        filepath = os.path.join(path,filename)\n",
    "\n",
    "        with open(filepath, 'r', encoding='utf-8') as f:\n",
    "            print(filename)\n",
    "            text = f.read()\n",
    "        \n",
    "        with open(filepath, 'w', encoding='utf-8') as f:\n",
    "            f.write(clean(text))\n",
    "    \n",
    "    "
   ]
  },
  {
   "cell_type": "markdown",
   "id": "c146385c",
   "metadata": {},
   "source": [
    "## Turning text file into dataset"
   ]
  },
  {
   "cell_type": "code",
   "execution_count": 3,
   "id": "b9e26bed",
   "metadata": {
    "scrolled": false
   },
   "outputs": [
    {
     "name": "stdout",
     "output_type": "stream",
     "text": [
      "News2.txt\n"
     ]
    }
   ],
   "source": [
    "subjects = ['News']\n",
    "\n",
    "for sbj in subjects:\n",
    "    data = []\n",
    "    path = os.path.join(folder,sbj)\n",
    "    \n",
    "    for filename in os.listdir(path):\n",
    "        filepath = os.path.join(path,filename)\n",
    "        \n",
    "        with open(filepath,'r', encoding='utf-8') as f:\n",
    "            print(filename)\n",
    "            lines = f.readlines()\n",
    "            \n",
    "            for l in lines:\n",
    "                d = l.split('\\t')\n",
    "                \n",
    "                #Start and End Token\n",
    "                if len(d) == 1:\n",
    "                    if re.search(r'<s id=\"[0-9]*\">', d[0]): data.append(['<s>','START',None,None])\n",
    "                    elif re.search(r'</s>', d[0]):          data.append(['</s>','END',None,None])\n",
    "                \n",
    "                elif len(d) > 1:\n",
    "                    d[-1] = d[-1][:-1]\n",
    "                    data.append(d)\n",
    "                    \n",
    "    df = pd.DataFrame(data, columns=['Word','POS','Lemma','Root'])\n",
    "    df.to_csv(os.path.join(path,sbj+'.csv'), index=False)"
   ]
  },
  {
   "cell_type": "markdown",
   "id": "7d6ad781",
   "metadata": {},
   "source": [
    "## Joining individual csv files"
   ]
  },
  {
   "cell_type": "markdown",
   "id": "94df8658",
   "metadata": {},
   "source": [
    "We will create 2 versions of korpus.csv. One will simply be all the csv files together while the other will read an equal number of bytes from each file. This is so the frequency counts won't be biased based on the subject of the texts."
   ]
  },
  {
   "cell_type": "code",
   "execution_count": 6,
   "id": "cb41bcc5",
   "metadata": {},
   "outputs": [
    {
     "name": "stdout",
     "output_type": "stream",
     "text": [
      "Academic Finished\n",
      "Culture Finished\n",
      "European Finished\n",
      "Law Finished\n",
      "News Finished\n",
      "Opinion Finished\n",
      "Parliament Finished\n",
      "Religion Finished\n",
      "Sport Finished\n",
      "All Finished\n",
      "\n",
      "Academic Finished\n",
      "Culture Finished\n",
      "European Finished\n",
      "Law Finished\n",
      "News Finished\n",
      "Opinion Finished\n",
      "Parliament Finished\n",
      "Religion Finished\n",
      "Sport Finished\n",
      "All Finished\n"
     ]
    }
   ],
   "source": [
    "with open(os.path.join(folder,'korpus.csv'), 'w', encoding='utf-8') as f1:\n",
    "    for sbj in subjects:\n",
    "        with open(os.path.join(folder,sbj,sbj+'.csv'), 'r', encoding='utf-8') as f2:\n",
    "            f1.write('\\n')\n",
    "            f1.write(f2.read())\n",
    "            print(f'{sbj} Finished')\n",
    "\n",
    "print('All Finished\\n')\n",
    "\n",
    "\n",
    "min_size = min([os.path.getsize(os.path.join(folder,sbj,sbj+'.csv')) for sbj in subjects])\n",
    "\n",
    "#Only read min_length lines from each csv file. \n",
    "\n",
    "with open(os.path.join(folder,'norm_korpus.csv'), 'w', encoding='utf-8') as f1:\n",
    "    for sbj in subjects:\n",
    "        with open(os.path.join(folder,sbj,sbj+'.csv'), 'r', encoding='utf-8') as f2:    \n",
    "            f1.write('\\n')\n",
    "            f1.write(f2.read(min_size))\n",
    "            print(f'{sbj} Finished')\n",
    "\n",
    "print('All Finished')\n"
   ]
  },
  {
   "cell_type": "markdown",
   "id": "12f7a035",
   "metadata": {},
   "source": [
    "## Exploring Dataset"
   ]
  },
  {
   "cell_type": "code",
   "execution_count": 94,
   "id": "4a8ad084",
   "metadata": {
    "scrolled": true
   },
   "outputs": [
    {
     "name": "stdout",
     "output_type": "stream",
     "text": [
      "Wall time: 7.89 s\n"
     ]
    },
    {
     "data": {
      "text/html": [
       "<div>\n",
       "<style scoped>\n",
       "    .dataframe tbody tr th:only-of-type {\n",
       "        vertical-align: middle;\n",
       "    }\n",
       "\n",
       "    .dataframe tbody tr th {\n",
       "        vertical-align: top;\n",
       "    }\n",
       "\n",
       "    .dataframe thead th {\n",
       "        text-align: right;\n",
       "    }\n",
       "</style>\n",
       "<table border=\"1\" class=\"dataframe\">\n",
       "  <thead>\n",
       "    <tr style=\"text-align: right;\">\n",
       "      <th></th>\n",
       "      <th>Word</th>\n",
       "      <th>POS</th>\n",
       "    </tr>\n",
       "  </thead>\n",
       "  <tbody>\n",
       "    <tr>\n",
       "      <th>0</th>\n",
       "      <td>&lt;s&gt;</td>\n",
       "      <td>START</td>\n",
       "    </tr>\n",
       "    <tr>\n",
       "      <th>1</th>\n",
       "      <td>L-</td>\n",
       "      <td>DEF</td>\n",
       "    </tr>\n",
       "    <tr>\n",
       "      <th>2</th>\n",
       "      <td>għan</td>\n",
       "      <td>NOUN</td>\n",
       "    </tr>\n",
       "    <tr>\n",
       "      <th>3</th>\n",
       "      <td>prinċipali</td>\n",
       "      <td>ADJ</td>\n",
       "    </tr>\n",
       "    <tr>\n",
       "      <th>4</th>\n",
       "      <td>ta'</td>\n",
       "      <td>GEN</td>\n",
       "    </tr>\n",
       "    <tr>\n",
       "      <th>5</th>\n",
       "      <td>Conectando</td>\n",
       "      <td>NOUN-PROP</td>\n",
       "    </tr>\n",
       "    <tr>\n",
       "      <th>6</th>\n",
       "      <td>Mundos</td>\n",
       "      <td>NOUN-PROP</td>\n",
       "    </tr>\n",
       "    <tr>\n",
       "      <th>7</th>\n",
       "      <td>(</td>\n",
       "      <td>X-PUN</td>\n",
       "    </tr>\n",
       "    <tr>\n",
       "      <th>8</th>\n",
       "      <td>Malta</td>\n",
       "      <td>NOUN-PROP</td>\n",
       "    </tr>\n",
       "    <tr>\n",
       "      <th>9</th>\n",
       "      <td>)</td>\n",
       "      <td>X-PUN</td>\n",
       "    </tr>\n",
       "  </tbody>\n",
       "</table>\n",
       "</div>"
      ],
      "text/plain": [
       "         Word        POS\n",
       "0         <s>      START\n",
       "1          L-        DEF\n",
       "2        għan       NOUN\n",
       "3  prinċipali        ADJ\n",
       "4         ta'        GEN\n",
       "5  Conectando  NOUN-PROP\n",
       "6      Mundos  NOUN-PROP\n",
       "7           (      X-PUN\n",
       "8       Malta  NOUN-PROP\n",
       "9           )      X-PUN"
      ]
     },
     "execution_count": 94,
     "metadata": {},
     "output_type": "execute_result"
    }
   ],
   "source": [
    "%%time\n",
    "\n",
    "#20 million rows\n",
    "df = pd.read_csv(os.path.join(folder,'korpus.csv'),\n",
    "                 usecols=[\"Word\",\"POS\"],\n",
    "                 dtype={\"Word\": \"U\",\"POS\": \"S\"},\n",
    "                 nrows = 20000000)\n",
    "\n",
    "df_norm = pd.read_csv(os.path.join(folder,'norm_korpus.csv'),\n",
    "                      usecols=[\"Word\",\"POS\"],\n",
    "                      dtype={\"Word\": \"U\",\"POS\": \"S\"})\n",
    "\n",
    "df.head(10)"
   ]
  },
  {
   "cell_type": "markdown",
   "id": "bc62ff14",
   "metadata": {},
   "source": [
    "### Cleaning"
   ]
  },
  {
   "cell_type": "code",
   "execution_count": 95,
   "id": "e312aca6",
   "metadata": {},
   "outputs": [
    {
     "data": {
      "text/plain": [
       "array(['START', 'DEF', 'NOUN', 'ADJ', 'GEN', 'NOUN-PROP', 'X-PUN',\n",
       "       'X-ABV', 'PREP', 'CONJ-CORD', 'PART-PASS', 'PREP-DEF', 'PRON-PERS',\n",
       "       'COMP', 'VERB', 'END', 'LIL-DEF', 'CONJ-SUB', 'KIEN', 'GEN-PRON',\n",
       "       'ADV', 'VERB-PSEU', 'NEG', 'GEN-DEF', 'QUAN', 'PRON-DEM', 'X-DIG',\n",
       "       'PRON-INT', 'FOC', 'PREP-PRON', 'NUM-WHD', 'LIL', 'NUM-CRD',\n",
       "       'X-ENG', 'X-FOR', 'PROG', 'INT', 'X-BOR', 'PRON-PERS-NEG',\n",
       "       'LIL-PRON', 'PRON-INDEF', 'PRON-DEM-DEF', 'NUM-ORD', 'HEMM',\n",
       "       'PRON-REF', 'PART-ACT', 'FUT', 'NUM-FRC', 'PRON-REC', 'POS'],\n",
       "      dtype=object)"
      ]
     },
     "execution_count": 95,
     "metadata": {},
     "output_type": "execute_result"
    }
   ],
   "source": [
    "df['POS'].unique()"
   ]
  },
  {
   "cell_type": "code",
   "execution_count": 96,
   "id": "28dba331",
   "metadata": {},
   "outputs": [
    {
     "name": "stdout",
     "output_type": "stream",
     "text": [
      "Wall time: 9.24 s\n"
     ]
    }
   ],
   "source": [
    "%%time\n",
    "#Maltese Tagset: https://mlrs.research.um.edu.mt/resources/malti03/tagset30.html\n",
    "\n",
    "df = df.drop(df[df['POS']=='X-PUN'].index) #Punctuation\n",
    "# df = df.drop(df[df['POS']=='X-DIG'].index) #Digits\n",
    "# df = df.drop(df[df['POS']=='X-ENG'].index) #English\n",
    "# df = df.drop(df[df['POS']=='X-FOR'].index) #Foreign\n",
    "# df = df.drop(df[df['POS']=='X-ABV'].index) #Abbreviations\n",
    "df = df.drop(df[df['POS']=='X-BOR'].index) #Gibberish\n",
    "df = df.drop(df[df['POS']=='INT'].index)   #Interjections\n",
    "\n",
    "\n",
    "df_norm = df_norm.drop(df_norm[df_norm['POS']=='X-PUN'].index) #Punctuation\n",
    "# df_norm = df_norm.drop(df_norm[df_norm['POS']=='X-DIG'].index) #Digits\n",
    "# df_norm = df_norm.drop(df_norm[df_norm['POS']=='X-ENG'].index) #English\n",
    "# df_norm = df_norm.drop(df_norm[df_norm['POS']=='X-FOR'].index) #Foreign\n",
    "# df_norm = df_norm.drop(df_norm[df_norm['POS']=='X-ABV'].index) #Abbreviations\n",
    "df_norm = df_norm.drop(df_norm[df_norm['POS']=='X-BOR'].index) #Gibberish\n",
    "df_norm = df_norm.drop(df_norm[df_norm['POS']=='INT'].index)   #Interjections\n"
   ]
  },
  {
   "cell_type": "code",
   "execution_count": 97,
   "id": "5fb97643",
   "metadata": {},
   "outputs": [
    {
     "data": {
      "text/html": [
       "<div>\n",
       "<style scoped>\n",
       "    .dataframe tbody tr th:only-of-type {\n",
       "        vertical-align: middle;\n",
       "    }\n",
       "\n",
       "    .dataframe tbody tr th {\n",
       "        vertical-align: top;\n",
       "    }\n",
       "\n",
       "    .dataframe thead th {\n",
       "        text-align: right;\n",
       "    }\n",
       "</style>\n",
       "<table border=\"1\" class=\"dataframe\">\n",
       "  <thead>\n",
       "    <tr style=\"text-align: right;\">\n",
       "      <th></th>\n",
       "      <th>column_name</th>\n",
       "      <th>percent_missing</th>\n",
       "    </tr>\n",
       "  </thead>\n",
       "  <tbody>\n",
       "    <tr>\n",
       "      <th>Word</th>\n",
       "      <td>Word</td>\n",
       "      <td>0.000382</td>\n",
       "    </tr>\n",
       "    <tr>\n",
       "      <th>POS</th>\n",
       "      <td>POS</td>\n",
       "      <td>0.000000</td>\n",
       "    </tr>\n",
       "  </tbody>\n",
       "</table>\n",
       "</div>"
      ],
      "text/plain": [
       "     column_name  percent_missing\n",
       "Word        Word         0.000382\n",
       "POS          POS         0.000000"
      ]
     },
     "execution_count": 97,
     "metadata": {},
     "output_type": "execute_result"
    }
   ],
   "source": [
    "percent_missing = df.isnull().sum() * 100 / len(df)\n",
    "missing_value_df = pd.DataFrame({'column_name': df.columns,\n",
    "                                 'percent_missing': percent_missing})\n",
    "\n",
    "missing_value_df"
   ]
  },
  {
   "cell_type": "code",
   "execution_count": 98,
   "id": "ff413c19",
   "metadata": {},
   "outputs": [],
   "source": [
    "df = df.dropna(subset=['Word'])\n",
    "df = df.drop(df[df[\"Word\"]=='\"'].index)\n",
    "df = df.drop(df[df[\"Word\"]=='&lt'].index)\n",
    "df = df.drop(df[df[\"Word\"]=='&gt'].index)\n",
    "df = df.drop(df[df[\"Word\"]=='&amp'].index)\n",
    "\n",
    "df_norm = df_norm.dropna(subset=['Word'])\n",
    "df_norm = df_norm.drop(df_norm[df_norm[\"Word\"]=='\"'].index)\n",
    "df_norm = df_norm.drop(df_norm[df_norm[\"Word\"]=='&lt'].index)\n",
    "df_norm = df_norm.drop(df_norm[df_norm[\"Word\"]=='&gt'].index)\n",
    "df_norm = df_norm.drop(df_norm[df_norm[\"Word\"]=='&amp'].index)"
   ]
  },
  {
   "cell_type": "code",
   "execution_count": 99,
   "id": "41ad4dbe",
   "metadata": {},
   "outputs": [
    {
     "data": {
      "text/html": [
       "<div>\n",
       "<style scoped>\n",
       "    .dataframe tbody tr th:only-of-type {\n",
       "        vertical-align: middle;\n",
       "    }\n",
       "\n",
       "    .dataframe tbody tr th {\n",
       "        vertical-align: top;\n",
       "    }\n",
       "\n",
       "    .dataframe thead th {\n",
       "        text-align: right;\n",
       "    }\n",
       "</style>\n",
       "<table border=\"1\" class=\"dataframe\">\n",
       "  <thead>\n",
       "    <tr style=\"text-align: right;\">\n",
       "      <th></th>\n",
       "      <th>column_name</th>\n",
       "      <th>percent_missing</th>\n",
       "    </tr>\n",
       "  </thead>\n",
       "  <tbody>\n",
       "    <tr>\n",
       "      <th>Word</th>\n",
       "      <td>Word</td>\n",
       "      <td>0.0</td>\n",
       "    </tr>\n",
       "    <tr>\n",
       "      <th>POS</th>\n",
       "      <td>POS</td>\n",
       "      <td>0.0</td>\n",
       "    </tr>\n",
       "  </tbody>\n",
       "</table>\n",
       "</div>"
      ],
      "text/plain": [
       "     column_name  percent_missing\n",
       "Word        Word              0.0\n",
       "POS          POS              0.0"
      ]
     },
     "execution_count": 99,
     "metadata": {},
     "output_type": "execute_result"
    }
   ],
   "source": [
    "percent_missing = df.isnull().sum() * 100 / len(df)\n",
    "missing_value_df = pd.DataFrame({'column_name': df.columns,\n",
    "                                 'percent_missing': percent_missing})\n",
    "\n",
    "missing_value_df"
   ]
  },
  {
   "cell_type": "code",
   "execution_count": 100,
   "id": "d7884382",
   "metadata": {},
   "outputs": [
    {
     "name": "stdout",
     "output_type": "stream",
     "text": [
      "Wall time: 32.8 s\n"
     ]
    }
   ],
   "source": [
    "%%time\n",
    "df.to_csv(os.path.join(folder,'korpus_clean.csv'), index=False)\n",
    "df_norm.to_csv(os.path.join(folder,'norm_korpus_clean.csv'), index=False)"
   ]
  },
  {
   "cell_type": "markdown",
   "id": "2628b596",
   "metadata": {},
   "source": [
    "## Frequency Counts"
   ]
  },
  {
   "cell_type": "code",
   "execution_count": 110,
   "id": "f7c2c1ea",
   "metadata": {},
   "outputs": [],
   "source": [
    "df = pd.read_csv(os.path.join(folder, \"korpus_clean.csv\"),\n",
    "                 usecols=[\"Word\",\"POS\"],\n",
    "                 dtype={\"Word\": \"U\",\"POS\": \"S\"})\n",
    "\n",
    "df_norm = pd.read_csv(os.path.join(folder, \"norm_korpus_clean.csv\"),\n",
    "                 usecols=[\"Word\",\"POS\"],\n",
    "                 dtype={\"Word\": \"U\",\"POS\": \"S\"})\n"
   ]
  },
  {
   "cell_type": "code",
   "execution_count": 119,
   "id": "dd4aa3fc",
   "metadata": {},
   "outputs": [
    {
     "data": {
      "text/html": [
       "<div>\n",
       "<style scoped>\n",
       "    .dataframe tbody tr th:only-of-type {\n",
       "        vertical-align: middle;\n",
       "    }\n",
       "\n",
       "    .dataframe tbody tr th {\n",
       "        vertical-align: top;\n",
       "    }\n",
       "\n",
       "    .dataframe thead th {\n",
       "        text-align: right;\n",
       "    }\n",
       "</style>\n",
       "<table border=\"1\" class=\"dataframe\">\n",
       "  <thead>\n",
       "    <tr style=\"text-align: right;\">\n",
       "      <th></th>\n",
       "      <th>Word</th>\n",
       "      <th>POS</th>\n",
       "      <th>Frequency</th>\n",
       "    </tr>\n",
       "  </thead>\n",
       "  <tbody>\n",
       "    <tr>\n",
       "      <th>0</th>\n",
       "      <td>l-</td>\n",
       "      <td>DEF</td>\n",
       "      <td>716515</td>\n",
       "    </tr>\n",
       "    <tr>\n",
       "      <th>1</th>\n",
       "      <td>&lt;s&gt;</td>\n",
       "      <td>START</td>\n",
       "      <td>713350</td>\n",
       "    </tr>\n",
       "    <tr>\n",
       "      <th>2</th>\n",
       "      <td>&lt;/s&gt;</td>\n",
       "      <td>END</td>\n",
       "      <td>713349</td>\n",
       "    </tr>\n",
       "    <tr>\n",
       "      <th>3</th>\n",
       "      <td>ta'</td>\n",
       "      <td>GEN</td>\n",
       "      <td>702736</td>\n",
       "    </tr>\n",
       "    <tr>\n",
       "      <th>4</th>\n",
       "      <td>li</td>\n",
       "      <td>COMP</td>\n",
       "      <td>463290</td>\n",
       "    </tr>\n",
       "    <tr>\n",
       "      <th>...</th>\n",
       "      <td>...</td>\n",
       "      <td>...</td>\n",
       "      <td>...</td>\n",
       "    </tr>\n",
       "    <tr>\n",
       "      <th>266540</th>\n",
       "      <td>Norm</td>\n",
       "      <td>NOUN-PROP</td>\n",
       "      <td>1</td>\n",
       "    </tr>\n",
       "    <tr>\n",
       "      <th>266541</th>\n",
       "      <td>jeħduni</td>\n",
       "      <td>VERB</td>\n",
       "      <td>1</td>\n",
       "    </tr>\n",
       "    <tr>\n",
       "      <th>266542</th>\n",
       "      <td>jeħdulhom</td>\n",
       "      <td>VERB</td>\n",
       "      <td>1</td>\n",
       "    </tr>\n",
       "    <tr>\n",
       "      <th>266543</th>\n",
       "      <td>Normalemnt</td>\n",
       "      <td>ADV</td>\n",
       "      <td>1</td>\n",
       "    </tr>\n",
       "    <tr>\n",
       "      <th>266544</th>\n",
       "      <td>#</td>\n",
       "      <td>ADV</td>\n",
       "      <td>1</td>\n",
       "    </tr>\n",
       "  </tbody>\n",
       "</table>\n",
       "<p>266545 rows × 3 columns</p>\n",
       "</div>"
      ],
      "text/plain": [
       "              Word        POS  Frequency\n",
       "0               l-        DEF     716515\n",
       "1              <s>      START     713350\n",
       "2             </s>        END     713349\n",
       "3              ta'        GEN     702736\n",
       "4               li       COMP     463290\n",
       "...            ...        ...        ...\n",
       "266540        Norm  NOUN-PROP          1\n",
       "266541     jeħduni       VERB          1\n",
       "266542   jeħdulhom       VERB          1\n",
       "266543  Normalemnt        ADV          1\n",
       "266544           #        ADV          1\n",
       "\n",
       "[266545 rows x 3 columns]"
      ]
     },
     "execution_count": 119,
     "metadata": {},
     "output_type": "execute_result"
    }
   ],
   "source": [
    "#Get all unique words\n",
    "df_frequency = df.value_counts().to_frame()[0].reset_index()\n",
    "df_frequency.columns = ['Word','POS','Frequency']\n",
    "\n",
    "\n",
    "df_normal_frequency = df_norm.value_counts().to_frame()[0].reset_index()\n",
    "df_normal_frequency.columns = ['Word','POS','Frequency']\n",
    "\n",
    "df_frequency.to_csv(os.path.join(folder,'korpus_frequency.csv'), index=False)\n",
    "df_normal_frequency.to_csv(os.path.join(folder,'norm_korpus_frequency.csv'), index=False)\n",
    "\n",
    "df_frequency"
   ]
  },
  {
   "cell_type": "markdown",
   "id": "66ac362f",
   "metadata": {},
   "source": [
    "### Viewing most common nouns, adjectives or verbs."
   ]
  },
  {
   "cell_type": "code",
   "execution_count": 108,
   "id": "587743ce",
   "metadata": {
    "scrolled": false
   },
   "outputs": [
    {
     "data": {
      "text/html": [
       "<div>\n",
       "<style scoped>\n",
       "    .dataframe tbody tr th:only-of-type {\n",
       "        vertical-align: middle;\n",
       "    }\n",
       "\n",
       "    .dataframe tbody tr th {\n",
       "        vertical-align: top;\n",
       "    }\n",
       "\n",
       "    .dataframe thead th {\n",
       "        text-align: right;\n",
       "    }\n",
       "</style>\n",
       "<table border=\"1\" class=\"dataframe\">\n",
       "  <thead>\n",
       "    <tr style=\"text-align: right;\">\n",
       "      <th></th>\n",
       "      <th>Word</th>\n",
       "      <th>POS</th>\n",
       "      <th>Frequency</th>\n",
       "    </tr>\n",
       "  </thead>\n",
       "  <tbody>\n",
       "    <tr>\n",
       "      <th>26</th>\n",
       "      <td>Regolament</td>\n",
       "      <td>NOUN</td>\n",
       "      <td>63056</td>\n",
       "    </tr>\n",
       "    <tr>\n",
       "      <th>27</th>\n",
       "      <td>Artikolu</td>\n",
       "      <td>NOUN</td>\n",
       "      <td>61768</td>\n",
       "    </tr>\n",
       "    <tr>\n",
       "      <th>32</th>\n",
       "      <td>Kummissjoni</td>\n",
       "      <td>NOUN</td>\n",
       "      <td>55794</td>\n",
       "    </tr>\n",
       "    <tr>\n",
       "      <th>39</th>\n",
       "      <td>Membri</td>\n",
       "      <td>NOUN</td>\n",
       "      <td>47351</td>\n",
       "    </tr>\n",
       "    <tr>\n",
       "      <th>41</th>\n",
       "      <td>Direttiva</td>\n",
       "      <td>NOUN</td>\n",
       "      <td>46369</td>\n",
       "    </tr>\n",
       "    <tr>\n",
       "      <th>...</th>\n",
       "      <td>...</td>\n",
       "      <td>...</td>\n",
       "      <td>...</td>\n",
       "    </tr>\n",
       "    <tr>\n",
       "      <th>266536</th>\n",
       "      <td>jeħhilsu</td>\n",
       "      <td>VERB</td>\n",
       "      <td>1</td>\n",
       "    </tr>\n",
       "    <tr>\n",
       "      <th>266537</th>\n",
       "      <td>jeħfiefu</td>\n",
       "      <td>VERB</td>\n",
       "      <td>1</td>\n",
       "    </tr>\n",
       "    <tr>\n",
       "      <th>266538</th>\n",
       "      <td>Norges</td>\n",
       "      <td>VERB</td>\n",
       "      <td>1</td>\n",
       "    </tr>\n",
       "    <tr>\n",
       "      <th>266541</th>\n",
       "      <td>jeħduni</td>\n",
       "      <td>VERB</td>\n",
       "      <td>1</td>\n",
       "    </tr>\n",
       "    <tr>\n",
       "      <th>266542</th>\n",
       "      <td>jeħdulhom</td>\n",
       "      <td>VERB</td>\n",
       "      <td>1</td>\n",
       "    </tr>\n",
       "  </tbody>\n",
       "</table>\n",
       "<p>158954 rows × 3 columns</p>\n",
       "</div>"
      ],
      "text/plain": [
       "               Word   POS  Frequency\n",
       "26       Regolament  NOUN      63056\n",
       "27         Artikolu  NOUN      61768\n",
       "32      Kummissjoni  NOUN      55794\n",
       "39           Membri  NOUN      47351\n",
       "41        Direttiva  NOUN      46369\n",
       "...             ...   ...        ...\n",
       "266536     jeħhilsu  VERB          1\n",
       "266537     jeħfiefu  VERB          1\n",
       "266538       Norges  VERB          1\n",
       "266541      jeħduni  VERB          1\n",
       "266542    jeħdulhom  VERB          1\n",
       "\n",
       "[158954 rows x 3 columns]"
      ]
     },
     "execution_count": 108,
     "metadata": {},
     "output_type": "execute_result"
    }
   ],
   "source": [
    "df_frequency[(df_frequency[\"POS\"] == \"NOUN\")|\n",
    "             (df_frequency[\"POS\"] == \"ADJ\") |\n",
    "             (df_frequency[\"POS\"] == \"VERB\")]"
   ]
  },
  {
   "cell_type": "code",
   "execution_count": 109,
   "id": "3db67fc7",
   "metadata": {},
   "outputs": [
    {
     "data": {
      "text/html": [
       "<div>\n",
       "<style scoped>\n",
       "    .dataframe tbody tr th:only-of-type {\n",
       "        vertical-align: middle;\n",
       "    }\n",
       "\n",
       "    .dataframe tbody tr th {\n",
       "        vertical-align: top;\n",
       "    }\n",
       "\n",
       "    .dataframe thead th {\n",
       "        text-align: right;\n",
       "    }\n",
       "</style>\n",
       "<table border=\"1\" class=\"dataframe\">\n",
       "  <thead>\n",
       "    <tr style=\"text-align: right;\">\n",
       "      <th></th>\n",
       "      <th>Word</th>\n",
       "      <th>POS</th>\n",
       "      <th>Frequency</th>\n",
       "    </tr>\n",
       "  </thead>\n",
       "  <tbody>\n",
       "    <tr>\n",
       "      <th>35</th>\n",
       "      <td>ta'</td>\n",
       "      <td>VERB</td>\n",
       "      <td>9188</td>\n",
       "    </tr>\n",
       "    <tr>\n",
       "      <th>41</th>\n",
       "      <td>sena</td>\n",
       "      <td>NOUN</td>\n",
       "      <td>8152</td>\n",
       "    </tr>\n",
       "    <tr>\n",
       "      <th>46</th>\n",
       "      <td>oħra</td>\n",
       "      <td>ADJ</td>\n",
       "      <td>7593</td>\n",
       "    </tr>\n",
       "    <tr>\n",
       "      <th>81</th>\n",
       "      <td>jista'</td>\n",
       "      <td>VERB</td>\n",
       "      <td>5097</td>\n",
       "    </tr>\n",
       "    <tr>\n",
       "      <th>85</th>\n",
       "      <td>Ministru</td>\n",
       "      <td>NOUN</td>\n",
       "      <td>4797</td>\n",
       "    </tr>\n",
       "    <tr>\n",
       "      <th>...</th>\n",
       "      <td>...</td>\n",
       "      <td>...</td>\n",
       "      <td>...</td>\n",
       "    </tr>\n",
       "    <tr>\n",
       "      <th>142092</th>\n",
       "      <td>Mewġiet</td>\n",
       "      <td>NOUN</td>\n",
       "      <td>1</td>\n",
       "    </tr>\n",
       "    <tr>\n",
       "      <th>142094</th>\n",
       "      <td>Mexxa</td>\n",
       "      <td>NOUN</td>\n",
       "      <td>1</td>\n",
       "    </tr>\n",
       "    <tr>\n",
       "      <th>142095</th>\n",
       "      <td>jippanjaw</td>\n",
       "      <td>VERB</td>\n",
       "      <td>1</td>\n",
       "    </tr>\n",
       "    <tr>\n",
       "      <th>142096</th>\n",
       "      <td>jippanikjax</td>\n",
       "      <td>VERB</td>\n",
       "      <td>1</td>\n",
       "    </tr>\n",
       "    <tr>\n",
       "      <th>142097</th>\n",
       "      <td>jippanikjawx</td>\n",
       "      <td>VERB</td>\n",
       "      <td>1</td>\n",
       "    </tr>\n",
       "  </tbody>\n",
       "</table>\n",
       "<p>92645 rows × 3 columns</p>\n",
       "</div>"
      ],
      "text/plain": [
       "                Word   POS  Frequency\n",
       "35               ta'  VERB       9188\n",
       "41              sena  NOUN       8152\n",
       "46              oħra   ADJ       7593\n",
       "81            jista'  VERB       5097\n",
       "85          Ministru  NOUN       4797\n",
       "...              ...   ...        ...\n",
       "142092       Mewġiet  NOUN          1\n",
       "142094         Mexxa  NOUN          1\n",
       "142095     jippanjaw  VERB          1\n",
       "142096   jippanikjax  VERB          1\n",
       "142097  jippanikjawx  VERB          1\n",
       "\n",
       "[92645 rows x 3 columns]"
      ]
     },
     "execution_count": 109,
     "metadata": {},
     "output_type": "execute_result"
    }
   ],
   "source": [
    "df_normal_frequency[(df_normal_frequency[\"POS\"] == \"NOUN\")|\n",
    "                    (df_normal_frequency[\"POS\"] == \"ADJ\") |\n",
    "                    (df_normal_frequency[\"POS\"] == \"VERB\")]"
   ]
  }
 ],
 "metadata": {
  "kernelspec": {
   "display_name": "ari2203-venv",
   "language": "python",
   "name": "ari2203-venv"
  },
  "language_info": {
   "codemirror_mode": {
    "name": "ipython",
    "version": 3
   },
   "file_extension": ".py",
   "mimetype": "text/x-python",
   "name": "python",
   "nbconvert_exporter": "python",
   "pygments_lexer": "ipython3",
   "version": "3.8.5"
  }
 },
 "nbformat": 4,
 "nbformat_minor": 5
}
