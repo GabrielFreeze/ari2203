{
 "cells": [
  {
   "cell_type": "code",
   "execution_count": 1,
   "id": "ccbb0806",
   "metadata": {},
   "outputs": [],
   "source": [
    "import re\n",
    "import os\n",
    "import pandas as pd\n",
    "import seaborn as sns"
   ]
  },
  {
   "cell_type": "code",
   "execution_count": 2,
   "id": "e56b112a",
   "metadata": {
    "scrolled": true
   },
   "outputs": [],
   "source": [
    "folder = os.path.join(os.getcwd(),'..','data','korpus')\n",
    "subjects = ['Academic','Culture','European','Law','News',\n",
    "            'Opinion','Parliament','Religion','Sport']"
   ]
  },
  {
   "cell_type": "markdown",
   "id": "bd9504e1",
   "metadata": {},
   "source": [
    "## Removing HTML tags from <i>korpus</i>"
   ]
  },
  {
   "cell_type": "code",
   "execution_count": null,
   "id": "17126fda",
   "metadata": {},
   "outputs": [],
   "source": [
    "expr = re.compile('<.*?>') \n",
    "\n",
    "def clean(html):\n",
    "  html_clean = re.sub(expr, '', html)\n",
    "  return html_clean"
   ]
  },
  {
   "cell_type": "code",
   "execution_count": null,
   "id": "fa9dee23",
   "metadata": {},
   "outputs": [],
   "source": [
    "for sbj in subjects:\n",
    "    path = os.path.join(folder,sbj)\n",
    "    \n",
    "    for filename in os.listdir(path):\n",
    "        filepath = os.path.join(path,filename)\n",
    "        \n",
    "        with open(filepath,'r', encoding='utf-8') as f:\n",
    "            print(filename)\n",
    "            text = f.read()\n",
    "        \n",
    "        with open(filepath,'w', encoding='utf-8') as f:\n",
    "            f.write(clean(text))\n",
    "    \n",
    "    "
   ]
  },
  {
   "cell_type": "markdown",
   "id": "c146385c",
   "metadata": {},
   "source": [
    "## Turning text file into dataset"
   ]
  },
  {
   "cell_type": "code",
   "execution_count": null,
   "id": "b9e26bed",
   "metadata": {
    "scrolled": true
   },
   "outputs": [],
   "source": [
    "for sbj in subjects:\n",
    "    data = []\n",
    "    path = os.path.join(folder,sbj)\n",
    "    \n",
    "    for filename in os.listdir(path):\n",
    "        filepath = os.path.join(path,filename)\n",
    "        \n",
    "        with open(filepath,'r', encoding='utf-8') as f:\n",
    "            print(filename)\n",
    "            lines = f.readlines()\n",
    "            \n",
    "            for l in lines:\n",
    "                d = l.split('\\t')\n",
    "                \n",
    "                if len(d) > 1:\n",
    "                    d[-1] = d[-1][:-1]\n",
    "                    data.append(d)\n",
    "                    \n",
    "    df = pd.DataFrame(data, columns=['Word','POS','Lemma','Root'])\n",
    "    df.to_csv(os.path.join(path,sbj+'.csv'), index=False)"
   ]
  },
  {
   "cell_type": "markdown",
   "id": "7d6ad781",
   "metadata": {},
   "source": [
    "## Joining individual csv files"
   ]
  },
  {
   "cell_type": "markdown",
   "id": "94df8658",
   "metadata": {},
   "source": [
    "We will create 2 versions of korpus.csv. One will simply be all the csv files together while the other will read an equal number of bytes from each file. This is so the frequency counts won't be biased based on the subject of the texts."
   ]
  },
  {
   "cell_type": "code",
   "execution_count": 107,
   "id": "cb41bcc5",
   "metadata": {},
   "outputs": [
    {
     "name": "stdout",
     "output_type": "stream",
     "text": [
      "Academic Finished\n",
      "Culture Finished\n",
      "European Finished\n",
      "Law Finished\n",
      "News Finished\n",
      "Opinion Finished\n",
      "Parliament Finished\n",
      "Religion Finished\n",
      "Sport Finished\n",
      "All Finished\n"
     ]
    }
   ],
   "source": [
    "with open(os.path.join(folder,'korpus.csv'), 'w', encoding='utf-8') as f1:\n",
    "    for sbj in subjects:\n",
    "        with open(os.path.join(folder,sbj,sbj+'.csv'), 'r', encoding='utf-8') as f2:\n",
    "            f1.write('\\n')\n",
    "            f1.write(f2.read())\n",
    "            print(f'{sbj} Finished')\n",
    "\n",
    "print('All Finished')\n",
    "\n",
    "\n",
    "min_size = min([os.path.getsize(os.path.join(folder,sbj,sbj+'.csv')) for sbj in subjects])\n",
    "\n",
    "#Only read min_length lines from each csv file. \n",
    "\n",
    "with open(os.path.join(folder,'norm_korpus.csv'), 'w', encoding='utf-8') as f1:\n",
    "    for sbj in subjects:\n",
    "        with open(os.path.join(folder,sbj,sbj+'.csv'), 'r', encoding='utf-8') as f2:    \n",
    "            f1.write('\\n')\n",
    "            f1.write(f2.read(min_size))\n",
    "            print(f'{sbj} Finished')\n",
    "\n",
    "print('All Finished')\n"
   ]
  },
  {
   "cell_type": "markdown",
   "id": "12f7a035",
   "metadata": {},
   "source": [
    "## Exploring Dataset"
   ]
  },
  {
   "cell_type": "code",
   "execution_count": 108,
   "id": "4a8ad084",
   "metadata": {
    "scrolled": true
   },
   "outputs": [
    {
     "name": "stdout",
     "output_type": "stream",
     "text": [
      "Wall time: 10.6 s\n"
     ]
    },
    {
     "data": {
      "text/html": [
       "<div>\n",
       "<style scoped>\n",
       "    .dataframe tbody tr th:only-of-type {\n",
       "        vertical-align: middle;\n",
       "    }\n",
       "\n",
       "    .dataframe tbody tr th {\n",
       "        vertical-align: top;\n",
       "    }\n",
       "\n",
       "    .dataframe thead th {\n",
       "        text-align: right;\n",
       "    }\n",
       "</style>\n",
       "<table border=\"1\" class=\"dataframe\">\n",
       "  <thead>\n",
       "    <tr style=\"text-align: right;\">\n",
       "      <th></th>\n",
       "      <th>Word</th>\n",
       "      <th>POS</th>\n",
       "    </tr>\n",
       "  </thead>\n",
       "  <tbody>\n",
       "    <tr>\n",
       "      <th>0</th>\n",
       "      <td>L-</td>\n",
       "      <td>DEF</td>\n",
       "    </tr>\n",
       "    <tr>\n",
       "      <th>1</th>\n",
       "      <td>għan</td>\n",
       "      <td>NOUN</td>\n",
       "    </tr>\n",
       "    <tr>\n",
       "      <th>2</th>\n",
       "      <td>prinċipali</td>\n",
       "      <td>ADJ</td>\n",
       "    </tr>\n",
       "    <tr>\n",
       "      <th>3</th>\n",
       "      <td>ta'</td>\n",
       "      <td>GEN</td>\n",
       "    </tr>\n",
       "    <tr>\n",
       "      <th>4</th>\n",
       "      <td>Conectando</td>\n",
       "      <td>NOUN-PROP</td>\n",
       "    </tr>\n",
       "    <tr>\n",
       "      <th>5</th>\n",
       "      <td>Mundos</td>\n",
       "      <td>NOUN-PROP</td>\n",
       "    </tr>\n",
       "    <tr>\n",
       "      <th>6</th>\n",
       "      <td>(</td>\n",
       "      <td>X-PUN</td>\n",
       "    </tr>\n",
       "    <tr>\n",
       "      <th>7</th>\n",
       "      <td>Malta</td>\n",
       "      <td>NOUN-PROP</td>\n",
       "    </tr>\n",
       "    <tr>\n",
       "      <th>8</th>\n",
       "      <td>)</td>\n",
       "      <td>X-PUN</td>\n",
       "    </tr>\n",
       "    <tr>\n",
       "      <th>9</th>\n",
       "      <td>(</td>\n",
       "      <td>X-PUN</td>\n",
       "    </tr>\n",
       "  </tbody>\n",
       "</table>\n",
       "</div>"
      ],
      "text/plain": [
       "         Word        POS\n",
       "0          L-        DEF\n",
       "1        għan       NOUN\n",
       "2  prinċipali        ADJ\n",
       "3         ta'        GEN\n",
       "4  Conectando  NOUN-PROP\n",
       "5      Mundos  NOUN-PROP\n",
       "6           (      X-PUN\n",
       "7       Malta  NOUN-PROP\n",
       "8           )      X-PUN\n",
       "9           (      X-PUN"
      ]
     },
     "execution_count": 108,
     "metadata": {},
     "output_type": "execute_result"
    }
   ],
   "source": [
    "%%time\n",
    "\n",
    "#30 million rows\n",
    "df = pd.read_csv(os.path.join(folder,'korpus.csv'),\n",
    "                 usecols=[\"Word\",\"POS\"],\n",
    "                 dtype={\"Word\": \"U\",\"POS\": \"S\"},\n",
    "                 nrows = 30000000)\n",
    "\n",
    "df_norm = pd.read_csv(os.path.join(folder,'norm_korpus.csv'),\n",
    "                      usecols=[\"Word\",\"POS\"],\n",
    "                      dtype={\"Word\": \"U\",\"POS\": \"S\"})\n",
    "\n",
    "df.head(10)"
   ]
  },
  {
   "cell_type": "markdown",
   "id": "bc62ff14",
   "metadata": {},
   "source": [
    "### Cleaning"
   ]
  },
  {
   "cell_type": "code",
   "execution_count": 109,
   "id": "e312aca6",
   "metadata": {},
   "outputs": [
    {
     "data": {
      "text/plain": [
       "array(['DEF', 'NOUN', 'ADJ', 'GEN', 'NOUN-PROP', 'X-PUN', 'X-ABV', 'PREP',\n",
       "       'CONJ-CORD', 'PART-PASS', 'PREP-DEF', 'PRON-PERS', 'COMP', 'VERB',\n",
       "       'LIL-DEF', 'CONJ-SUB', 'KIEN', 'GEN-PRON', 'ADV', 'VERB-PSEU',\n",
       "       'NEG', 'GEN-DEF', 'QUAN', 'PRON-DEM', 'X-DIG', 'PRON-INT', 'FOC',\n",
       "       'PREP-PRON', 'NUM-WHD', 'LIL', 'NUM-CRD', 'X-ENG', 'X-FOR', 'PROG',\n",
       "       'INT', 'X-BOR', 'PRON-PERS-NEG', 'LIL-PRON', 'PRON-INDEF',\n",
       "       'PRON-DEM-DEF', 'NUM-ORD', 'HEMM', 'PRON-REF', 'PART-ACT', 'FUT',\n",
       "       'NUM-FRC', 'PRON-REC', 'POS'], dtype=object)"
      ]
     },
     "execution_count": 109,
     "metadata": {},
     "output_type": "execute_result"
    }
   ],
   "source": [
    "df['POS'].unique()"
   ]
  },
  {
   "cell_type": "code",
   "execution_count": 112,
   "id": "28dba331",
   "metadata": {},
   "outputs": [
    {
     "name": "stdout",
     "output_type": "stream",
     "text": [
      "Wall time: 2.55 s\n"
     ]
    }
   ],
   "source": [
    "%%time\n",
    "#Maltese Tagset: https://mlrs.research.um.edu.mt/resources/malti03/tagset30.html\n",
    "\n",
    "df = df.drop(df[df['POS']=='X-PUN'].index) #Punctuation\n",
    "df = df.drop(df[df['POS']=='X-DIG'].index) #Digits\n",
    "df = df.drop(df[df['POS']=='X-ENG'].index) #English\n",
    "df = df.drop(df[df['POS']=='X-FOR'].index) #Foreign\n",
    "df = df.drop(df[df['POS']=='X-ABV'].index) #Abbreviations\n",
    "df = df.drop(df[df['POS']=='X-BOR'].index) #Gibberish\n",
    "df = df.drop(df[df['POS']=='INT'].index)   #Interjections\n",
    "\n",
    "\n",
    "df_norm = df_norm.drop(df_norm[df_norm['POS']=='X-PUN'].index) #Punctuation\n",
    "df_norm = df_norm.drop(df_norm[df_norm['POS']=='X-DIG'].index) #Digits\n",
    "df_norm = df_norm.drop(df_norm[df_norm['POS']=='X-ENG'].index) #English\n",
    "df_norm = df_norm.drop(df_norm[df_norm['POS']=='X-FOR'].index) #Foreign\n",
    "df_norm = df_norm.drop(df_norm[df_norm['POS']=='X-ABV'].index) #Abbreviations\n",
    "df_norm = df_norm.drop(df_norm[df_norm['POS']=='X-BOR'].index) #Gibberish\n",
    "df_norm = df_norm.drop(df_norm[df_norm['POS']=='INT'].index)   #Interjections\n"
   ]
  },
  {
   "cell_type": "code",
   "execution_count": 117,
   "id": "f4f787d9",
   "metadata": {},
   "outputs": [
    {
     "name": "stdout",
     "output_type": "stream",
     "text": [
      "Wall time: 4.01 s\n"
     ]
    }
   ],
   "source": [
    "%%time\n",
    "df.to_csv(os.path.join(folder,'korpus_clean.csv'), index=False)\n",
    "df_norm.to_csv(os.path.join(folder,'norm_korpus_clean.csv'), index=False)"
   ]
  },
  {
   "cell_type": "code",
   "execution_count": 15,
   "id": "5fb97643",
   "metadata": {},
   "outputs": [
    {
     "data": {
      "text/html": [
       "<div>\n",
       "<style scoped>\n",
       "    .dataframe tbody tr th:only-of-type {\n",
       "        vertical-align: middle;\n",
       "    }\n",
       "\n",
       "    .dataframe tbody tr th {\n",
       "        vertical-align: top;\n",
       "    }\n",
       "\n",
       "    .dataframe thead th {\n",
       "        text-align: right;\n",
       "    }\n",
       "</style>\n",
       "<table border=\"1\" class=\"dataframe\">\n",
       "  <thead>\n",
       "    <tr style=\"text-align: right;\">\n",
       "      <th></th>\n",
       "      <th>column_name</th>\n",
       "      <th>percent_missing</th>\n",
       "    </tr>\n",
       "  </thead>\n",
       "  <tbody>\n",
       "    <tr>\n",
       "      <th>Word</th>\n",
       "      <td>Word</td>\n",
       "      <td>0.000764</td>\n",
       "    </tr>\n",
       "    <tr>\n",
       "      <th>POS</th>\n",
       "      <td>POS</td>\n",
       "      <td>0.000000</td>\n",
       "    </tr>\n",
       "  </tbody>\n",
       "</table>\n",
       "</div>"
      ],
      "text/plain": [
       "     column_name  percent_missing\n",
       "Word        Word         0.000764\n",
       "POS          POS         0.000000"
      ]
     },
     "execution_count": 15,
     "metadata": {},
     "output_type": "execute_result"
    }
   ],
   "source": [
    "percent_missing = df.isnull().sum() * 100 / len(df)\n",
    "missing_value_df = pd.DataFrame({'column_name': df.columns,\n",
    "                                 'percent_missing': percent_missing})\n",
    "\n",
    "missing_value_df"
   ]
  },
  {
   "cell_type": "markdown",
   "id": "2628b596",
   "metadata": {},
   "source": [
    "## Frequency Counts"
   ]
  },
  {
   "cell_type": "code",
   "execution_count": 3,
   "id": "f7c2c1ea",
   "metadata": {},
   "outputs": [],
   "source": [
    "df = pd.read_csv(os.path.join(folder, \"korpus_clean.csv\"),\n",
    "                 usecols=[\"Word\",\"POS\"],\n",
    "                 dtype={\"Word\": \"U\",\"POS\": \"S\"})\n",
    "\n",
    "df_norm = pd.read_csv(os.path.join(folder, \"norm_korpus_clean.csv\"),\n",
    "                 usecols=[\"Word\",\"POS\"],\n",
    "                 dtype={\"Word\": \"U\",\"POS\": \"S\"})\n"
   ]
  },
  {
   "cell_type": "code",
   "execution_count": 4,
   "id": "dd4aa3fc",
   "metadata": {},
   "outputs": [
    {
     "data": {
      "text/html": [
       "<div>\n",
       "<style scoped>\n",
       "    .dataframe tbody tr th:only-of-type {\n",
       "        vertical-align: middle;\n",
       "    }\n",
       "\n",
       "    .dataframe tbody tr th {\n",
       "        vertical-align: top;\n",
       "    }\n",
       "\n",
       "    .dataframe thead th {\n",
       "        text-align: right;\n",
       "    }\n",
       "</style>\n",
       "<table border=\"1\" class=\"dataframe\">\n",
       "  <thead>\n",
       "    <tr style=\"text-align: right;\">\n",
       "      <th></th>\n",
       "      <th>Word</th>\n",
       "      <th>POS</th>\n",
       "      <th>Frequency</th>\n",
       "    </tr>\n",
       "  </thead>\n",
       "  <tbody>\n",
       "    <tr>\n",
       "      <th>0</th>\n",
       "      <td>ta'</td>\n",
       "      <td>GEN</td>\n",
       "      <td>1136012</td>\n",
       "    </tr>\n",
       "    <tr>\n",
       "      <th>1</th>\n",
       "      <td>l-</td>\n",
       "      <td>DEF</td>\n",
       "      <td>1122350</td>\n",
       "    </tr>\n",
       "    <tr>\n",
       "      <th>2</th>\n",
       "      <td>li</td>\n",
       "      <td>COMP</td>\n",
       "      <td>741119</td>\n",
       "    </tr>\n",
       "    <tr>\n",
       "      <th>3</th>\n",
       "      <td>u</td>\n",
       "      <td>CONJ-CORD</td>\n",
       "      <td>603949</td>\n",
       "    </tr>\n",
       "    <tr>\n",
       "      <th>4</th>\n",
       "      <td>tal-</td>\n",
       "      <td>GEN-DEF</td>\n",
       "      <td>576924</td>\n",
       "    </tr>\n",
       "    <tr>\n",
       "      <th>...</th>\n",
       "      <td>...</td>\n",
       "      <td>...</td>\n",
       "      <td>...</td>\n",
       "    </tr>\n",
       "    <tr>\n",
       "      <th>289731</th>\n",
       "      <td>Francaise</td>\n",
       "      <td>NOUN-PROP</td>\n",
       "      <td>1</td>\n",
       "    </tr>\n",
       "    <tr>\n",
       "      <th>289732</th>\n",
       "      <td>ibridiżazzjoni</td>\n",
       "      <td>NOUN</td>\n",
       "      <td>1</td>\n",
       "    </tr>\n",
       "    <tr>\n",
       "      <th>289733</th>\n",
       "      <td>Franaġisku</td>\n",
       "      <td>NOUN-PROP</td>\n",
       "      <td>1</td>\n",
       "    </tr>\n",
       "    <tr>\n",
       "      <th>289734</th>\n",
       "      <td>ibsin</td>\n",
       "      <td>ADJ</td>\n",
       "      <td>1</td>\n",
       "    </tr>\n",
       "    <tr>\n",
       "      <th>289735</th>\n",
       "      <td>gallinago</td>\n",
       "      <td>VERB</td>\n",
       "      <td>1</td>\n",
       "    </tr>\n",
       "  </tbody>\n",
       "</table>\n",
       "<p>289736 rows × 3 columns</p>\n",
       "</div>"
      ],
      "text/plain": [
       "                  Word        POS  Frequency\n",
       "0                  ta'        GEN    1136012\n",
       "1                   l-        DEF    1122350\n",
       "2                   li       COMP     741119\n",
       "3                    u  CONJ-CORD     603949\n",
       "4                 tal-    GEN-DEF     576924\n",
       "...                ...        ...        ...\n",
       "289731       Francaise  NOUN-PROP          1\n",
       "289732  ibridiżazzjoni       NOUN          1\n",
       "289733      Franaġisku  NOUN-PROP          1\n",
       "289734           ibsin        ADJ          1\n",
       "289735       gallinago       VERB          1\n",
       "\n",
       "[289736 rows x 3 columns]"
      ]
     },
     "execution_count": 4,
     "metadata": {},
     "output_type": "execute_result"
    }
   ],
   "source": [
    "#Get all unique words\n",
    "df_frequency = df.value_counts().to_frame()[0].reset_index()\n",
    "df_frequency.columns = ['Word','POS','Frequency']\n",
    "\n",
    "\n",
    "df_normal_frequency = df_norm.value_counts().to_frame()[0].reset_index()\n",
    "df_normal_frequency.columns = ['Word','POS','Frequency']\n",
    "\n",
    "df_frequency"
   ]
  },
  {
   "cell_type": "markdown",
   "id": "eed9ea7a",
   "metadata": {},
   "source": [
    "### Removing words with an occcurence of less than 100."
   ]
  },
  {
   "cell_type": "code",
   "execution_count": 6,
   "id": "68766b77",
   "metadata": {},
   "outputs": [],
   "source": [
    "df_frequency = df_frequency[df_frequency['Frequency'] > 100] \n",
    "df_normal_frequency = df_normal_frequency[df_normal_frequency['Frequency'] > 100] \n",
    "\n",
    "df_frequency.to_csv(os.path.join(folder,'korpus_frequency.csv'),index=False)\n",
    "df_normal_frequency.to_csv(os.path.join(folder,'norm_korpus_frequency.csv'), index=False)"
   ]
  },
  {
   "cell_type": "markdown",
   "id": "66ac362f",
   "metadata": {},
   "source": [
    "### Viewing most common nouns, adjectives or verbs."
   ]
  },
  {
   "cell_type": "code",
   "execution_count": 7,
   "id": "587743ce",
   "metadata": {
    "scrolled": false
   },
   "outputs": [
    {
     "data": {
      "text/html": [
       "<div>\n",
       "<style scoped>\n",
       "    .dataframe tbody tr th:only-of-type {\n",
       "        vertical-align: middle;\n",
       "    }\n",
       "\n",
       "    .dataframe tbody tr th {\n",
       "        vertical-align: top;\n",
       "    }\n",
       "\n",
       "    .dataframe thead th {\n",
       "        text-align: right;\n",
       "    }\n",
       "</style>\n",
       "<table border=\"1\" class=\"dataframe\">\n",
       "  <thead>\n",
       "    <tr style=\"text-align: right;\">\n",
       "      <th></th>\n",
       "      <th>Word</th>\n",
       "      <th>POS</th>\n",
       "      <th>Frequency</th>\n",
       "    </tr>\n",
       "  </thead>\n",
       "  <tbody>\n",
       "    <tr>\n",
       "      <th>27</th>\n",
       "      <td>Regolament</td>\n",
       "      <td>NOUN</td>\n",
       "      <td>86504</td>\n",
       "    </tr>\n",
       "    <tr>\n",
       "      <th>31</th>\n",
       "      <td>Artikolu</td>\n",
       "      <td>NOUN</td>\n",
       "      <td>80061</td>\n",
       "    </tr>\n",
       "    <tr>\n",
       "      <th>34</th>\n",
       "      <td>Kummissjoni</td>\n",
       "      <td>NOUN</td>\n",
       "      <td>76837</td>\n",
       "    </tr>\n",
       "    <tr>\n",
       "      <th>42</th>\n",
       "      <td>Membri</td>\n",
       "      <td>NOUN</td>\n",
       "      <td>63317</td>\n",
       "    </tr>\n",
       "    <tr>\n",
       "      <th>43</th>\n",
       "      <td>Komunità</td>\n",
       "      <td>NOUN</td>\n",
       "      <td>62249</td>\n",
       "    </tr>\n",
       "    <tr>\n",
       "      <th>...</th>\n",
       "      <td>...</td>\n",
       "      <td>...</td>\n",
       "      <td>...</td>\n",
       "    </tr>\n",
       "    <tr>\n",
       "      <th>11011</th>\n",
       "      <td>jibda'</td>\n",
       "      <td>VERB</td>\n",
       "      <td>101</td>\n",
       "    </tr>\n",
       "    <tr>\n",
       "      <th>11012</th>\n",
       "      <td>grazzja</td>\n",
       "      <td>NOUN</td>\n",
       "      <td>101</td>\n",
       "    </tr>\n",
       "    <tr>\n",
       "      <th>11014</th>\n",
       "      <td>ngħid</td>\n",
       "      <td>VERB</td>\n",
       "      <td>101</td>\n",
       "    </tr>\n",
       "    <tr>\n",
       "      <th>11015</th>\n",
       "      <td>ħarġa</td>\n",
       "      <td>NOUN</td>\n",
       "      <td>101</td>\n",
       "    </tr>\n",
       "    <tr>\n",
       "      <th>11016</th>\n",
       "      <td>xaħmin</td>\n",
       "      <td>NOUN</td>\n",
       "      <td>101</td>\n",
       "    </tr>\n",
       "  </tbody>\n",
       "</table>\n",
       "<p>8366 rows × 3 columns</p>\n",
       "</div>"
      ],
      "text/plain": [
       "              Word   POS  Frequency\n",
       "27      Regolament  NOUN      86504\n",
       "31        Artikolu  NOUN      80061\n",
       "34     Kummissjoni  NOUN      76837\n",
       "42          Membri  NOUN      63317\n",
       "43        Komunità  NOUN      62249\n",
       "...            ...   ...        ...\n",
       "11011       jibda'  VERB        101\n",
       "11012      grazzja  NOUN        101\n",
       "11014        ngħid  VERB        101\n",
       "11015        ħarġa  NOUN        101\n",
       "11016       xaħmin  NOUN        101\n",
       "\n",
       "[8366 rows x 3 columns]"
      ]
     },
     "execution_count": 7,
     "metadata": {},
     "output_type": "execute_result"
    }
   ],
   "source": [
    "df_frequency[(df_frequency[\"POS\"] == \"NOUN\")|\n",
    "             (df_frequency[\"POS\"] == \"ADJ\") |\n",
    "             (df_frequency[\"POS\"] == \"VERB\")]"
   ]
  },
  {
   "cell_type": "code",
   "execution_count": 8,
   "id": "3db67fc7",
   "metadata": {},
   "outputs": [
    {
     "data": {
      "text/html": [
       "<div>\n",
       "<style scoped>\n",
       "    .dataframe tbody tr th:only-of-type {\n",
       "        vertical-align: middle;\n",
       "    }\n",
       "\n",
       "    .dataframe tbody tr th {\n",
       "        vertical-align: top;\n",
       "    }\n",
       "\n",
       "    .dataframe thead th {\n",
       "        text-align: right;\n",
       "    }\n",
       "</style>\n",
       "<table border=\"1\" class=\"dataframe\">\n",
       "  <thead>\n",
       "    <tr style=\"text-align: right;\">\n",
       "      <th></th>\n",
       "      <th>Word</th>\n",
       "      <th>POS</th>\n",
       "      <th>Frequency</th>\n",
       "    </tr>\n",
       "  </thead>\n",
       "  <tbody>\n",
       "    <tr>\n",
       "      <th>10</th>\n",
       "      <td>ta'</td>\n",
       "      <td>VERB</td>\n",
       "      <td>19076</td>\n",
       "    </tr>\n",
       "    <tr>\n",
       "      <th>30</th>\n",
       "      <td>sena</td>\n",
       "      <td>NOUN</td>\n",
       "      <td>9759</td>\n",
       "    </tr>\n",
       "    <tr>\n",
       "      <th>37</th>\n",
       "      <td>f'</td>\n",
       "      <td>NOUN</td>\n",
       "      <td>8457</td>\n",
       "    </tr>\n",
       "    <tr>\n",
       "      <th>41</th>\n",
       "      <td>oħra</td>\n",
       "      <td>ADJ</td>\n",
       "      <td>8097</td>\n",
       "    </tr>\n",
       "    <tr>\n",
       "      <th>66</th>\n",
       "      <td>Ministru</td>\n",
       "      <td>NOUN</td>\n",
       "      <td>5912</td>\n",
       "    </tr>\n",
       "    <tr>\n",
       "      <th>...</th>\n",
       "      <td>...</td>\n",
       "      <td>...</td>\n",
       "      <td>...</td>\n",
       "    </tr>\n",
       "    <tr>\n",
       "      <th>3533</th>\n",
       "      <td>kuntenti</td>\n",
       "      <td>ADJ</td>\n",
       "      <td>101</td>\n",
       "    </tr>\n",
       "    <tr>\n",
       "      <th>3534</th>\n",
       "      <td>gvernijiet</td>\n",
       "      <td>NOUN</td>\n",
       "      <td>101</td>\n",
       "    </tr>\n",
       "    <tr>\n",
       "      <th>3536</th>\n",
       "      <td>wasslet</td>\n",
       "      <td>VERB</td>\n",
       "      <td>101</td>\n",
       "    </tr>\n",
       "    <tr>\n",
       "      <th>3537</th>\n",
       "      <td>Preżenti</td>\n",
       "      <td>ADJ</td>\n",
       "      <td>101</td>\n",
       "    </tr>\n",
       "    <tr>\n",
       "      <th>3538</th>\n",
       "      <td>ġilda</td>\n",
       "      <td>NOUN</td>\n",
       "      <td>101</td>\n",
       "    </tr>\n",
       "  </tbody>\n",
       "</table>\n",
       "<p>2436 rows × 3 columns</p>\n",
       "</div>"
      ],
      "text/plain": [
       "            Word   POS  Frequency\n",
       "10           ta'  VERB      19076\n",
       "30          sena  NOUN       9759\n",
       "37            f'  NOUN       8457\n",
       "41          oħra   ADJ       8097\n",
       "66      Ministru  NOUN       5912\n",
       "...          ...   ...        ...\n",
       "3533    kuntenti   ADJ        101\n",
       "3534  gvernijiet  NOUN        101\n",
       "3536     wasslet  VERB        101\n",
       "3537    Preżenti   ADJ        101\n",
       "3538       ġilda  NOUN        101\n",
       "\n",
       "[2436 rows x 3 columns]"
      ]
     },
     "execution_count": 8,
     "metadata": {},
     "output_type": "execute_result"
    }
   ],
   "source": [
    "df_normal_frequency[(df_normal_frequency[\"POS\"] == \"NOUN\")|\n",
    "                    (df_normal_frequency[\"POS\"] == \"ADJ\") |\n",
    "                    (df_normal_frequency[\"POS\"] == \"VERB\")]"
   ]
  },
  {
   "cell_type": "markdown",
   "id": "cf413ca9",
   "metadata": {},
   "source": [
    "Since <i> ta` </i> can be considered both as a genitive clause (of) and a verb (to give), its frequency count may be innacurate."
   ]
  }
 ],
 "metadata": {
  "kernelspec": {
   "display_name": "ari2203-venv",
   "language": "python",
   "name": "ari2203-venv"
  },
  "language_info": {
   "codemirror_mode": {
    "name": "ipython",
    "version": 3
   },
   "file_extension": ".py",
   "mimetype": "text/x-python",
   "name": "python",
   "nbconvert_exporter": "python",
   "pygments_lexer": "ipython3",
   "version": "3.8.5"
  }
 },
 "nbformat": 4,
 "nbformat_minor": 5
}
