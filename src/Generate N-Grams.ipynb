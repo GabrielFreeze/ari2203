{
 "cells": [
  {
   "cell_type": "code",
   "execution_count": 371,
   "id": "28a5397a",
   "metadata": {},
   "outputs": [],
   "source": [
    "import os\n",
    "import pandas as pd\n",
    "import seaborn as sns"
   ]
  },
  {
   "cell_type": "code",
   "execution_count": 372,
   "id": "0d797cf7",
   "metadata": {},
   "outputs": [],
   "source": [
    "folder = os.path.join(os.getcwd(),'..','data','korpus')"
   ]
  },
  {
   "cell_type": "markdown",
   "id": "2a916a87",
   "metadata": {},
   "source": [
    "### Generating Unigram, Bigram and Trigram."
   ]
  },
  {
   "cell_type": "code",
   "execution_count": 401,
   "id": "7669d998",
   "metadata": {},
   "outputs": [
    {
     "data": {
      "text/plain": [
       "0                 <s>\n",
       "1                  L-\n",
       "2                għan\n",
       "3          prinċipali\n",
       "4                 ta'\n",
       "              ...    \n",
       "4031890        ġimgħa\n",
       "4031891     intlagħbu\n",
       "4031892            l-\n",
       "4031893       partiti\n",
       "4031894          mir-\n",
       "Name: Word, Length: 4031895, dtype: object"
      ]
     },
     "execution_count": 401,
     "metadata": {},
     "output_type": "execute_result"
    }
   ],
   "source": [
    "df = pd.read_csv(os.path.join(folder,'norm_korpus_clean.csv'))\n",
    "\n",
    "word_count = pd.read_csv(os.path.join(folder,'norm_korpus_frequency.csv'))['Frequency'].sum()\n",
    "words = df['Word']\n",
    "words"
   ]
  },
  {
   "cell_type": "markdown",
   "id": "782b527b",
   "metadata": {},
   "source": [
    "#### Unigram"
   ]
  },
  {
   "cell_type": "code",
   "execution_count": 402,
   "id": "7d3311f4",
   "metadata": {},
   "outputs": [
    {
     "name": "stdout",
     "output_type": "stream",
     "text": [
      "Wall time: 10.9 s\n"
     ]
    }
   ],
   "source": [
    "%%time\n",
    "\n",
    "#Calculating frequencies\n",
    "\n",
    "unigram = {}\n",
    "\n",
    "for i in range(len(words)):\n",
    "    first  = words[i]\n",
    "    \n",
    "    if f'{first}' in unigram:\n",
    "        unigram[f'{first}'] += 1\n",
    "    else:\n",
    "        unigram[f'{first}'] = 1        \n"
   ]
  },
  {
   "cell_type": "code",
   "execution_count": 403,
   "id": "4e0b8ce6",
   "metadata": {},
   "outputs": [],
   "source": [
    "df_unigram = pd.DataFrame(unigram.items(), columns=['Unigram', 'Frequency'])"
   ]
  },
  {
   "cell_type": "code",
   "execution_count": 413,
   "id": "b92a7660",
   "metadata": {},
   "outputs": [
    {
     "name": "stdout",
     "output_type": "stream",
     "text": [
      "Wall time: 48.8 ms\n"
     ]
    }
   ],
   "source": [
    "%%time\n",
    "\n",
    "#Calculating probabilities\n",
    "df_unigram['Probability'] = [freq/word_count for freq in unigram.values()]"
   ]
  },
  {
   "cell_type": "code",
   "execution_count": 414,
   "id": "49707782",
   "metadata": {},
   "outputs": [
    {
     "data": {
      "text/html": [
       "<div>\n",
       "<style scoped>\n",
       "    .dataframe tbody tr th:only-of-type {\n",
       "        vertical-align: middle;\n",
       "    }\n",
       "\n",
       "    .dataframe tbody tr th {\n",
       "        vertical-align: top;\n",
       "    }\n",
       "\n",
       "    .dataframe thead th {\n",
       "        text-align: right;\n",
       "    }\n",
       "</style>\n",
       "<table border=\"1\" class=\"dataframe\">\n",
       "  <thead>\n",
       "    <tr style=\"text-align: right;\">\n",
       "      <th></th>\n",
       "      <th>Unigram</th>\n",
       "      <th>Frequency</th>\n",
       "      <th>Probability</th>\n",
       "    </tr>\n",
       "  </thead>\n",
       "  <tbody>\n",
       "    <tr>\n",
       "      <th>0</th>\n",
       "      <td>&lt;s&gt;</td>\n",
       "      <td>179269</td>\n",
       "      <td>4.446273e-02</td>\n",
       "    </tr>\n",
       "    <tr>\n",
       "      <th>1</th>\n",
       "      <td>L-</td>\n",
       "      <td>11342</td>\n",
       "      <td>2.813070e-03</td>\n",
       "    </tr>\n",
       "    <tr>\n",
       "      <th>2</th>\n",
       "      <td>għan</td>\n",
       "      <td>872</td>\n",
       "      <td>2.162755e-04</td>\n",
       "    </tr>\n",
       "    <tr>\n",
       "      <th>3</th>\n",
       "      <td>prinċipali</td>\n",
       "      <td>535</td>\n",
       "      <td>1.326920e-04</td>\n",
       "    </tr>\n",
       "    <tr>\n",
       "      <th>4</th>\n",
       "      <td>ta'</td>\n",
       "      <td>95215</td>\n",
       "      <td>2.361545e-02</td>\n",
       "    </tr>\n",
       "    <tr>\n",
       "      <th>...</th>\n",
       "      <td>...</td>\n",
       "      <td>...</td>\n",
       "      <td>...</td>\n",
       "    </tr>\n",
       "    <tr>\n",
       "      <th>125418</th>\n",
       "      <td>Deċiżi</td>\n",
       "      <td>1</td>\n",
       "      <td>2.480224e-07</td>\n",
       "    </tr>\n",
       "    <tr>\n",
       "      <th>125419</th>\n",
       "      <td>Tistqarr</td>\n",
       "      <td>1</td>\n",
       "      <td>2.480224e-07</td>\n",
       "    </tr>\n",
       "    <tr>\n",
       "      <th>125420</th>\n",
       "      <td>tgħini</td>\n",
       "      <td>1</td>\n",
       "      <td>2.480224e-07</td>\n",
       "    </tr>\n",
       "    <tr>\n",
       "      <th>125421</th>\n",
       "      <td>Tirringrazzja</td>\n",
       "      <td>1</td>\n",
       "      <td>2.480224e-07</td>\n",
       "    </tr>\n",
       "    <tr>\n",
       "      <th>125422</th>\n",
       "      <td>taagħha</td>\n",
       "      <td>1</td>\n",
       "      <td>2.480224e-07</td>\n",
       "    </tr>\n",
       "  </tbody>\n",
       "</table>\n",
       "<p>125423 rows × 3 columns</p>\n",
       "</div>"
      ],
      "text/plain": [
       "              Unigram  Frequency   Probability\n",
       "0                 <s>     179269  4.446273e-02\n",
       "1                  L-      11342  2.813070e-03\n",
       "2                għan        872  2.162755e-04\n",
       "3          prinċipali        535  1.326920e-04\n",
       "4                 ta'      95215  2.361545e-02\n",
       "...               ...        ...           ...\n",
       "125418         Deċiżi          1  2.480224e-07\n",
       "125419       Tistqarr          1  2.480224e-07\n",
       "125420         tgħini          1  2.480224e-07\n",
       "125421  Tirringrazzja          1  2.480224e-07\n",
       "125422        taagħha          1  2.480224e-07\n",
       "\n",
       "[125423 rows x 3 columns]"
      ]
     },
     "execution_count": 414,
     "metadata": {},
     "output_type": "execute_result"
    }
   ],
   "source": [
    "df_unigram"
   ]
  },
  {
   "cell_type": "code",
   "execution_count": 398,
   "id": "e7770464",
   "metadata": {},
   "outputs": [],
   "source": [
    "#Saving unigram\n",
    "dict_unigram = df_unigram.set_index('Unigram').T.to_dict('list')\n",
    "df_unigram.to_csv(os.path.join(folder,'ngram','unigram.csv'), index=False)"
   ]
  },
  {
   "cell_type": "markdown",
   "id": "d8b3e666",
   "metadata": {},
   "source": [
    "#### Bigram"
   ]
  },
  {
   "cell_type": "code",
   "execution_count": 415,
   "id": "d2997882",
   "metadata": {},
   "outputs": [
    {
     "name": "stdout",
     "output_type": "stream",
     "text": [
      "Wall time: 21.6 s\n"
     ]
    }
   ],
   "source": [
    "%%time\n",
    "\n",
    "bigram = {}\n",
    "\n",
    "#Bigram\n",
    "for i in range(len(words)-1):\n",
    "    first  = words[i]\n",
    "    second = words[i+1]\n",
    "    if f'{first};{second}' in bigram:\n",
    "        bigram[f'{first};{second}'] += 1\n",
    "    else:\n",
    "        bigram[f'{first};{second}'] = 1        "
   ]
  },
  {
   "cell_type": "code",
   "execution_count": 416,
   "id": "62b26b42",
   "metadata": {},
   "outputs": [],
   "source": [
    "df_bigram = pd.DataFrame(bigram.items(), columns=['Bigram', 'Frequency'])"
   ]
  },
  {
   "cell_type": "code",
   "execution_count": 417,
   "id": "dd0ed803",
   "metadata": {},
   "outputs": [
    {
     "name": "stdout",
     "output_type": "stream",
     "text": [
      "Finished!\n"
     ]
    }
   ],
   "source": [
    "probability = []\n",
    "\n",
    "for i,(bi,bi_freq) in enumerate(bigram.items()):\n",
    "    first = bi.split(';')[0]\n",
    "    first_freq = dict_unigram[first][0]\n",
    "    probability.append(bi_freq/first_freq)\n",
    "\n",
    "print('Finished!')\n",
    "df_bigram['Probability'] = probability"
   ]
  },
  {
   "cell_type": "code",
   "execution_count": 419,
   "id": "87b0de96",
   "metadata": {},
   "outputs": [
    {
     "data": {
      "text/html": [
       "<div>\n",
       "<style scoped>\n",
       "    .dataframe tbody tr th:only-of-type {\n",
       "        vertical-align: middle;\n",
       "    }\n",
       "\n",
       "    .dataframe tbody tr th {\n",
       "        vertical-align: top;\n",
       "    }\n",
       "\n",
       "    .dataframe thead th {\n",
       "        text-align: right;\n",
       "    }\n",
       "</style>\n",
       "<table border=\"1\" class=\"dataframe\">\n",
       "  <thead>\n",
       "    <tr style=\"text-align: right;\">\n",
       "      <th></th>\n",
       "      <th>Bigram</th>\n",
       "      <th>Frequency</th>\n",
       "      <th>Probability</th>\n",
       "    </tr>\n",
       "  </thead>\n",
       "  <tbody>\n",
       "    <tr>\n",
       "      <th>0</th>\n",
       "      <td>&lt;s&gt;;L-</td>\n",
       "      <td>9397</td>\n",
       "      <td>0.052418</td>\n",
       "    </tr>\n",
       "    <tr>\n",
       "      <th>1</th>\n",
       "      <td>L-;għan</td>\n",
       "      <td>105</td>\n",
       "      <td>0.009258</td>\n",
       "    </tr>\n",
       "    <tr>\n",
       "      <th>2</th>\n",
       "      <td>għan;prinċipali</td>\n",
       "      <td>22</td>\n",
       "      <td>0.025229</td>\n",
       "    </tr>\n",
       "    <tr>\n",
       "      <th>3</th>\n",
       "      <td>prinċipali;ta'</td>\n",
       "      <td>55</td>\n",
       "      <td>0.102804</td>\n",
       "    </tr>\n",
       "    <tr>\n",
       "      <th>4</th>\n",
       "      <td>ta';Conectando</td>\n",
       "      <td>1</td>\n",
       "      <td>0.000011</td>\n",
       "    </tr>\n",
       "    <tr>\n",
       "      <th>...</th>\n",
       "      <td>...</td>\n",
       "      <td>...</td>\n",
       "      <td>...</td>\n",
       "    </tr>\n",
       "    <tr>\n",
       "      <th>1074685</th>\n",
       "      <td>ħolm;x'</td>\n",
       "      <td>1</td>\n",
       "      <td>0.014085</td>\n",
       "    </tr>\n",
       "    <tr>\n",
       "      <th>1074686</th>\n",
       "      <td>x';iwettqu</td>\n",
       "      <td>1</td>\n",
       "      <td>0.000226</td>\n",
       "    </tr>\n",
       "    <tr>\n",
       "      <th>1074687</th>\n",
       "      <td>iwettqu;fihom</td>\n",
       "      <td>1</td>\n",
       "      <td>0.020408</td>\n",
       "    </tr>\n",
       "    <tr>\n",
       "      <th>1074688</th>\n",
       "      <td>ġimgħa;intlagħbu</td>\n",
       "      <td>1</td>\n",
       "      <td>0.000697</td>\n",
       "    </tr>\n",
       "    <tr>\n",
       "      <th>1074689</th>\n",
       "      <td>partiti;mir-</td>\n",
       "      <td>1</td>\n",
       "      <td>0.002079</td>\n",
       "    </tr>\n",
       "  </tbody>\n",
       "</table>\n",
       "<p>1074690 rows × 3 columns</p>\n",
       "</div>"
      ],
      "text/plain": [
       "                   Bigram  Frequency  Probability\n",
       "0                  <s>;L-       9397     0.052418\n",
       "1                 L-;għan        105     0.009258\n",
       "2         għan;prinċipali         22     0.025229\n",
       "3          prinċipali;ta'         55     0.102804\n",
       "4          ta';Conectando          1     0.000011\n",
       "...                   ...        ...          ...\n",
       "1074685           ħolm;x'          1     0.014085\n",
       "1074686        x';iwettqu          1     0.000226\n",
       "1074687     iwettqu;fihom          1     0.020408\n",
       "1074688  ġimgħa;intlagħbu          1     0.000697\n",
       "1074689      partiti;mir-          1     0.002079\n",
       "\n",
       "[1074690 rows x 3 columns]"
      ]
     },
     "execution_count": 419,
     "metadata": {},
     "output_type": "execute_result"
    }
   ],
   "source": [
    "df_bigram"
   ]
  },
  {
   "cell_type": "code",
   "execution_count": 418,
   "id": "9c399e19",
   "metadata": {},
   "outputs": [],
   "source": [
    "#Saving bigram\n",
    "dict_bigram = df_bigram.set_index('Bigram').T.to_dict('list')\n",
    "df_bigram.to_csv(os.path.join(folder,'ngram','bigram.csv'), index=False)"
   ]
  },
  {
   "cell_type": "markdown",
   "id": "f3809514",
   "metadata": {},
   "source": [
    "#### Trigram"
   ]
  },
  {
   "cell_type": "code",
   "execution_count": 6,
   "id": "56c4aba8",
   "metadata": {},
   "outputs": [
    {
     "name": "stdout",
     "output_type": "stream",
     "text": [
      "Wall time: 4.35 s\n"
     ]
    }
   ],
   "source": [
    "%%time\n",
    "\n",
    "trigram = {}\n",
    "\n",
    "#Trigram\n",
    "for i in range(len(words)-2):\n",
    "    first  = words[i]\n",
    "    second = words[i+1]\n",
    "    third = words[i+2]\n",
    "    \n",
    "    if f'{first},{second},{third}' in trigram:\n",
    "        trigram[f'{first},{second},{third}'] += 1\n",
    "    else:\n",
    "        trigram[f'{first},{second},{third}'] = 1        "
   ]
  },
  {
   "cell_type": "code",
   "execution_count": 7,
   "id": "a63036a7",
   "metadata": {},
   "outputs": [],
   "source": [
    "df = pd.DataFrame(trigram.items(), columns=['Trigram', 'Frequency']).sort_values(by=['Frequency'], ascending=False)\n",
    "df.to_csv(os.path.join(folder,'ngram','trigram.csv'), index=False)"
   ]
  },
  {
   "cell_type": "markdown",
   "id": "d5c581bf",
   "metadata": {},
   "source": [
    "### Generate Vanilla Language Model"
   ]
  },
  {
   "cell_type": "code",
   "execution_count": null,
   "id": "83e15dea",
   "metadata": {},
   "outputs": [],
   "source": []
  }
 ],
 "metadata": {
  "kernelspec": {
   "display_name": "ari2203-venv",
   "language": "python",
   "name": "ari2203-venv"
  },
  "language_info": {
   "codemirror_mode": {
    "name": "ipython",
    "version": 3
   },
   "file_extension": ".py",
   "mimetype": "text/x-python",
   "name": "python",
   "nbconvert_exporter": "python",
   "pygments_lexer": "ipython3",
   "version": "3.8.5"
  }
 },
 "nbformat": 4,
 "nbformat_minor": 5
}
