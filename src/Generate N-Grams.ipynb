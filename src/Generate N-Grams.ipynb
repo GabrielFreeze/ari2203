{
 "cells": [
  {
   "cell_type": "markdown",
   "id": "2ed43c0e",
   "metadata": {},
   "source": [
    "# Generating the N-Gram Models"
   ]
  },
  {
   "cell_type": "markdown",
   "id": "a577d08e",
   "metadata": {},
   "source": [
    "An N-Gram model is simply an enumeration of n-pairs of words, their frequency and probability. The ngrams will be represented in a csv spreadsheet. This is so they are compatible with Pandas and we do not have to recompute them each time we wish to use them.\n",
    "\n",
    "There are 3 models in total: Vanilla, Laplace and UNK. The Laplace model will include an occurence of every possible combination of n words known in the corpus. Saving such a model would be slow and wasteful. During text generation and perplexity calculation the laplace model will make use of the vanilla model and if an unkown sequence of words is encountered, then we perform laplace smoothing."
   ]
  },
  {
   "cell_type": "code",
   "execution_count": 1,
   "id": "28a5397a",
   "metadata": {},
   "outputs": [],
   "source": [
    "import os\n",
    "import pandas as pd\n",
    "import seaborn as sns"
   ]
  },
  {
   "cell_type": "code",
   "execution_count": 2,
   "id": "0d797cf7",
   "metadata": {},
   "outputs": [],
   "source": [
    "folder = os.path.join(os.getcwd(),'..','data','korpus')\n",
    "\n",
    "vanilla = os.path.join(os.getcwd(),'..','data','korpus','ngram','vanilla')\n",
    "laplace = os.path.join(os.getcwd(),'..','data','korpus','ngram','laplace')\n",
    "unk = os.path.join(os.getcwd(),'..','data','korpus','ngram','unk')"
   ]
  },
  {
   "cell_type": "markdown",
   "id": "2a916a87",
   "metadata": {},
   "source": [
    "### Generating Vanilla Language Model"
   ]
  },
  {
   "cell_type": "markdown",
   "id": "9c757005",
   "metadata": {},
   "source": [
    "The vanilla models will be implemented by first counting the frequency of the ngrams (sequence of n words) within the korpus. Then the probabiltiies will be calculated."
   ]
  },
  {
   "cell_type": "markdown",
   "id": "3c4441cc",
   "metadata": {},
   "source": [
    "Bigrams and Trigrams make use of the previous ngram (Unigram and Bigram respectively). Hence when the unigram or bigram is generated, a dictionary is created by using Pandas df.to_dict. This is so to facilitate O(1) access time when searching."
   ]
  },
  {
   "cell_type": "code",
   "execution_count": 3,
   "id": "fafb3614",
   "metadata": {},
   "outputs": [],
   "source": [
    "df = pd.read_csv(os.path.join(folder,'korpus_clean.csv'))\n",
    "\n",
    "word_count = pd.read_csv(os.path.join(folder,'korpus_frequency.csv'))['Frequency'].sum()\n",
    "words = df['Word'].to_numpy()\n"
   ]
  },
  {
   "cell_type": "markdown",
   "id": "782b527b",
   "metadata": {},
   "source": [
    "#### Unigram"
   ]
  },
  {
   "cell_type": "code",
   "execution_count": 4,
   "id": "7d3311f4",
   "metadata": {},
   "outputs": [
    {
     "name": "stdout",
     "output_type": "stream",
     "text": [
      "Finished!\n",
      "Wall time: 7.56 s\n"
     ]
    }
   ],
   "source": [
    "%%time\n",
    "\n",
    "#Calculating frequencies\n",
    "\n",
    "def calcualte_unigram(words, word_count: int):\n",
    "    unigram = {}\n",
    "    \n",
    "    #Calculating frequency.\n",
    "    for i in range(len(words)):\n",
    "        first  = words[i]\n",
    "\n",
    "        if f'{first}' in unigram:\n",
    "            unigram[f'{first}'] += 1\n",
    "        else:\n",
    "            unigram[f'{first}'] = 1\n",
    "            \n",
    "    df_unigram = pd.DataFrame(unigram.items(), columns=['Unigram', 'Frequency'])\n",
    "    \n",
    "    #Calculating probability.\n",
    "    df_unigram['Probability'] = [freq/word_count for freq in unigram.values()]\n",
    "    df_unigram.dropna()\n",
    "    print('Finished!')\n",
    "    return df_unigram\n",
    "\n",
    "\n",
    "df_unigram = calcualte_unigram(words, word_count)"
   ]
  },
  {
   "cell_type": "code",
   "execution_count": 5,
   "id": "a18aaf28",
   "metadata": {},
   "outputs": [
    {
     "name": "stdout",
     "output_type": "stream",
     "text": [
      "Wall time: 7.25 s\n"
     ]
    }
   ],
   "source": [
    "%%time\n",
    "#Saving unigram\n",
    "dict_unigram = df_unigram.set_index('Unigram').T.to_dict('list')\n",
    "df_unigram.to_csv(os.path.join(vanilla,'unigram.csv'), index=False)"
   ]
  },
  {
   "cell_type": "markdown",
   "id": "d8b3e666",
   "metadata": {},
   "source": [
    "#### Bigram"
   ]
  },
  {
   "cell_type": "code",
   "execution_count": 6,
   "id": "d2997882",
   "metadata": {},
   "outputs": [
    {
     "name": "stdout",
     "output_type": "stream",
     "text": [
      "Finished!\n",
      "Wall time: 23.5 s\n"
     ]
    }
   ],
   "source": [
    "%%time\n",
    "#Bigram\n",
    "def calculate_bigram(words, unigram: dict): \n",
    "    bigram = {}\n",
    "\n",
    "    #Calculate frequency.\n",
    "    for i in range(len(words)-1):\n",
    "        first  = words[i]\n",
    "        second = words[i+1]\n",
    "        \n",
    "        if f'{first};{second}' in bigram:\n",
    "            bigram[f'{first};{second}'] += 1\n",
    "        else:\n",
    "            bigram[f'{first};{second}'] = 1        \n",
    "    \n",
    "    df_bigram = pd.DataFrame(bigram.items(), columns=['Bigram', 'Frequency'])\n",
    "    \n",
    "    df_bigram['Probability'] = [bi_freq/unigram[bi.split(';')[0]][0] for bi,bi_freq in bigram.items()]\n",
    "    \n",
    "    print('Finished!')\n",
    "    return df_bigram\n",
    "    \n",
    "df_bigram = calculate_bigram(words, dict_unigram)\n"
   ]
  },
  {
   "cell_type": "code",
   "execution_count": 7,
   "id": "50fc69db",
   "metadata": {},
   "outputs": [
    {
     "data": {
      "text/html": [
       "<div>\n",
       "<style scoped>\n",
       "    .dataframe tbody tr th:only-of-type {\n",
       "        vertical-align: middle;\n",
       "    }\n",
       "\n",
       "    .dataframe tbody tr th {\n",
       "        vertical-align: top;\n",
       "    }\n",
       "\n",
       "    .dataframe thead th {\n",
       "        text-align: right;\n",
       "    }\n",
       "</style>\n",
       "<table border=\"1\" class=\"dataframe\">\n",
       "  <thead>\n",
       "    <tr style=\"text-align: right;\">\n",
       "      <th></th>\n",
       "      <th>Bigram</th>\n",
       "      <th>Frequency</th>\n",
       "      <th>Probability</th>\n",
       "    </tr>\n",
       "  </thead>\n",
       "  <tbody>\n",
       "    <tr>\n",
       "      <th>0</th>\n",
       "      <td>&lt;s&gt;;L-</td>\n",
       "      <td>91248</td>\n",
       "      <td>8.834669e-02</td>\n",
       "    </tr>\n",
       "    <tr>\n",
       "      <th>1</th>\n",
       "      <td>L-;għan</td>\n",
       "      <td>832</td>\n",
       "      <td>7.575965e-03</td>\n",
       "    </tr>\n",
       "    <tr>\n",
       "      <th>2</th>\n",
       "      <td>għan;prinċipali</td>\n",
       "      <td>57</td>\n",
       "      <td>4.983389e-03</td>\n",
       "    </tr>\n",
       "    <tr>\n",
       "      <th>3</th>\n",
       "      <td>prinċipali;ta'</td>\n",
       "      <td>583</td>\n",
       "      <td>1.349537e-01</td>\n",
       "    </tr>\n",
       "    <tr>\n",
       "      <th>4</th>\n",
       "      <td>ta';Conectando</td>\n",
       "      <td>1</td>\n",
       "      <td>9.329498e-07</td>\n",
       "    </tr>\n",
       "    <tr>\n",
       "      <th>...</th>\n",
       "      <td>...</td>\n",
       "      <td>...</td>\n",
       "      <td>...</td>\n",
       "    </tr>\n",
       "    <tr>\n",
       "      <th>2942958</th>\n",
       "      <td>Kwalifika;għall-</td>\n",
       "      <td>1</td>\n",
       "      <td>6.666667e-02</td>\n",
       "    </tr>\n",
       "    <tr>\n",
       "      <th>2942959</th>\n",
       "      <td>Biex;jikkwaliflkaw</td>\n",
       "      <td>1</td>\n",
       "      <td>3.586801e-04</td>\n",
       "    </tr>\n",
       "    <tr>\n",
       "      <th>2942960</th>\n",
       "      <td>jikkwaliflkaw;għall-</td>\n",
       "      <td>1</td>\n",
       "      <td>1.000000e+00</td>\n",
       "    </tr>\n",
       "    <tr>\n",
       "      <th>2942961</th>\n",
       "      <td>għandhom;jinkishu</td>\n",
       "      <td>1</td>\n",
       "      <td>7.877179e-06</td>\n",
       "    </tr>\n",
       "    <tr>\n",
       "      <th>2942962</th>\n",
       "      <td>jinkishu;għat-</td>\n",
       "      <td>1</td>\n",
       "      <td>1.000000e+00</td>\n",
       "    </tr>\n",
       "  </tbody>\n",
       "</table>\n",
       "<p>2942963 rows × 3 columns</p>\n",
       "</div>"
      ],
      "text/plain": [
       "                       Bigram  Frequency   Probability\n",
       "0                      <s>;L-      91248  8.834669e-02\n",
       "1                     L-;għan        832  7.575965e-03\n",
       "2             għan;prinċipali         57  4.983389e-03\n",
       "3              prinċipali;ta'        583  1.349537e-01\n",
       "4              ta';Conectando          1  9.329498e-07\n",
       "...                       ...        ...           ...\n",
       "2942958      Kwalifika;għall-          1  6.666667e-02\n",
       "2942959    Biex;jikkwaliflkaw          1  3.586801e-04\n",
       "2942960  jikkwaliflkaw;għall-          1  1.000000e+00\n",
       "2942961     għandhom;jinkishu          1  7.877179e-06\n",
       "2942962        jinkishu;għat-          1  1.000000e+00\n",
       "\n",
       "[2942963 rows x 3 columns]"
      ]
     },
     "execution_count": 7,
     "metadata": {},
     "output_type": "execute_result"
    }
   ],
   "source": [
    "df_bigram"
   ]
  },
  {
   "cell_type": "code",
   "execution_count": 8,
   "id": "4d72fef0",
   "metadata": {},
   "outputs": [],
   "source": [
    "#Saving bigram\n",
    "\n",
    "dict_bigram = df_bigram.set_index('Bigram').T.to_dict('list')\n",
    "df_bigram.to_csv(os.path.join(vanilla,'bigram.csv'), index=False)"
   ]
  },
  {
   "cell_type": "markdown",
   "id": "f3809514",
   "metadata": {},
   "source": [
    "#### Trigram"
   ]
  },
  {
   "cell_type": "code",
   "execution_count": 9,
   "id": "7b9c2d78",
   "metadata": {},
   "outputs": [
    {
     "name": "stdout",
     "output_type": "stream",
     "text": [
      "Finished!\n",
      "Wall time: 50.5 s\n"
     ]
    }
   ],
   "source": [
    "%%time\n",
    "\n",
    "def calculate_trigram(words, bigram: dict): \n",
    "    trigram = {}\n",
    "\n",
    "    #Calculate frequency.\n",
    "    for i in range(len(words)-2):\n",
    "        first  = words[i]\n",
    "        second = words[i+1]\n",
    "        third = words[i+2]\n",
    "\n",
    "        if f'{first};{second};{third}' in trigram:\n",
    "            trigram[f'{first};{second};{third}'] += 1\n",
    "        else:\n",
    "            trigram[f'{first};{second};{third}'] = 1\n",
    "            \n",
    "            \n",
    "    df_trigram = pd.DataFrame(trigram.items(), columns=['Trigram', 'Frequency'])\n",
    "    \n",
    "    #Calculate probability.\n",
    "    probability = []\n",
    "\n",
    "    for tri,tri_freq in trigram.items():\n",
    "        first,second = tri.split(';')[:2]\n",
    "        bi_freq = dict_bigram[f'{first};{second}'][0]\n",
    "        probability.append(tri_freq/bi_freq)\n",
    "\n",
    "    df_trigram['Probability'] = probability\n",
    "    \n",
    "    print('Finished!')\n",
    "    return df_trigram\n",
    "\n",
    "df_trigram = calculate_trigram(words, dict_bigram)"
   ]
  },
  {
   "cell_type": "code",
   "execution_count": 10,
   "id": "8da915b2",
   "metadata": {},
   "outputs": [
    {
     "data": {
      "text/html": [
       "<div>\n",
       "<style scoped>\n",
       "    .dataframe tbody tr th:only-of-type {\n",
       "        vertical-align: middle;\n",
       "    }\n",
       "\n",
       "    .dataframe tbody tr th {\n",
       "        vertical-align: top;\n",
       "    }\n",
       "\n",
       "    .dataframe thead th {\n",
       "        text-align: right;\n",
       "    }\n",
       "</style>\n",
       "<table border=\"1\" class=\"dataframe\">\n",
       "  <thead>\n",
       "    <tr style=\"text-align: right;\">\n",
       "      <th></th>\n",
       "      <th>Trigram</th>\n",
       "      <th>Frequency</th>\n",
       "      <th>Probability</th>\n",
       "    </tr>\n",
       "  </thead>\n",
       "  <tbody>\n",
       "    <tr>\n",
       "      <th>0</th>\n",
       "      <td>&lt;s&gt;;L-;għan</td>\n",
       "      <td>779</td>\n",
       "      <td>0.008537</td>\n",
       "    </tr>\n",
       "    <tr>\n",
       "      <th>1</th>\n",
       "      <td>L-;għan;prinċipali</td>\n",
       "      <td>24</td>\n",
       "      <td>0.028846</td>\n",
       "    </tr>\n",
       "    <tr>\n",
       "      <th>2</th>\n",
       "      <td>għan;prinċipali;ta'</td>\n",
       "      <td>14</td>\n",
       "      <td>0.245614</td>\n",
       "    </tr>\n",
       "    <tr>\n",
       "      <th>3</th>\n",
       "      <td>prinċipali;ta';Conectando</td>\n",
       "      <td>1</td>\n",
       "      <td>0.001715</td>\n",
       "    </tr>\n",
       "    <tr>\n",
       "      <th>4</th>\n",
       "      <td>ta';Conectando;Mundos</td>\n",
       "      <td>1</td>\n",
       "      <td>1.000000</td>\n",
       "    </tr>\n",
       "    <tr>\n",
       "      <th>...</th>\n",
       "      <td>...</td>\n",
       "      <td>...</td>\n",
       "      <td>...</td>\n",
       "    </tr>\n",
       "    <tr>\n",
       "      <th>8614064</th>\n",
       "      <td>jinkishu;għat-;tliet</td>\n",
       "      <td>1</td>\n",
       "      <td>1.000000</td>\n",
       "    </tr>\n",
       "    <tr>\n",
       "      <th>8614065</th>\n",
       "      <td>għat-;tliet;taqsimiet</td>\n",
       "      <td>1</td>\n",
       "      <td>0.009901</td>\n",
       "    </tr>\n",
       "    <tr>\n",
       "      <th>8614066</th>\n",
       "      <td>tliet;taqsimiet;studju</td>\n",
       "      <td>1</td>\n",
       "      <td>0.071429</td>\n",
       "    </tr>\n",
       "    <tr>\n",
       "      <th>8614067</th>\n",
       "      <td>anqas;4;kredti</td>\n",
       "      <td>1</td>\n",
       "      <td>0.125000</td>\n",
       "    </tr>\n",
       "    <tr>\n",
       "      <th>8614068</th>\n",
       "      <td>4;kredti;għat-</td>\n",
       "      <td>1</td>\n",
       "      <td>0.142857</td>\n",
       "    </tr>\n",
       "  </tbody>\n",
       "</table>\n",
       "<p>8614069 rows × 3 columns</p>\n",
       "</div>"
      ],
      "text/plain": [
       "                           Trigram  Frequency  Probability\n",
       "0                      <s>;L-;għan        779     0.008537\n",
       "1               L-;għan;prinċipali         24     0.028846\n",
       "2              għan;prinċipali;ta'         14     0.245614\n",
       "3        prinċipali;ta';Conectando          1     0.001715\n",
       "4            ta';Conectando;Mundos          1     1.000000\n",
       "...                            ...        ...          ...\n",
       "8614064       jinkishu;għat-;tliet          1     1.000000\n",
       "8614065      għat-;tliet;taqsimiet          1     0.009901\n",
       "8614066     tliet;taqsimiet;studju          1     0.071429\n",
       "8614067             anqas;4;kredti          1     0.125000\n",
       "8614068             4;kredti;għat-          1     0.142857\n",
       "\n",
       "[8614069 rows x 3 columns]"
      ]
     },
     "execution_count": 10,
     "metadata": {},
     "output_type": "execute_result"
    }
   ],
   "source": [
    "df_trigram"
   ]
  },
  {
   "cell_type": "code",
   "execution_count": 11,
   "id": "2f361683",
   "metadata": {},
   "outputs": [],
   "source": [
    "#Saving trigram\n",
    "df_trigram.to_csv(os.path.join(vanilla,'trigram.csv'), index=False)"
   ]
  },
  {
   "cell_type": "markdown",
   "id": "66403e4f",
   "metadata": {},
   "source": [
    "### Generate UNK Model"
   ]
  },
  {
   "cell_type": "markdown",
   "id": "a935d2be",
   "metadata": {},
   "source": [
    "To generate the UNK model, first we remove all words in the vanilla unigram model that have a frequency of 2 or less. We create an extra token called \\<UNK> that will represent all the removed words. The frequency of the \\<UNK> willbe the sum of the frequency of the removed words."
   ]
  },
  {
   "cell_type": "markdown",
   "id": "0ee16239",
   "metadata": {},
   "source": [
    "#### Unigram"
   ]
  },
  {
   "cell_type": "code",
   "execution_count": 12,
   "id": "756c1add",
   "metadata": {},
   "outputs": [
    {
     "data": {
      "text/html": [
       "<div>\n",
       "<style scoped>\n",
       "    .dataframe tbody tr th:only-of-type {\n",
       "        vertical-align: middle;\n",
       "    }\n",
       "\n",
       "    .dataframe tbody tr th {\n",
       "        vertical-align: top;\n",
       "    }\n",
       "\n",
       "    .dataframe thead th {\n",
       "        text-align: right;\n",
       "    }\n",
       "</style>\n",
       "<table border=\"1\" class=\"dataframe\">\n",
       "  <thead>\n",
       "    <tr style=\"text-align: right;\">\n",
       "      <th></th>\n",
       "      <th>Unigram</th>\n",
       "      <th>Frequency</th>\n",
       "      <th>Probability</th>\n",
       "    </tr>\n",
       "  </thead>\n",
       "  <tbody>\n",
       "    <tr>\n",
       "      <th>0</th>\n",
       "      <td>&lt;UNK&gt;</td>\n",
       "      <td>211612</td>\n",
       "      <td>8.029837e-03</td>\n",
       "    </tr>\n",
       "    <tr>\n",
       "      <th>1</th>\n",
       "      <td>&lt;s&gt;</td>\n",
       "      <td>1032840</td>\n",
       "      <td>3.919218e-02</td>\n",
       "    </tr>\n",
       "    <tr>\n",
       "      <th>2</th>\n",
       "      <td>L-</td>\n",
       "      <td>109821</td>\n",
       "      <td>4.167272e-03</td>\n",
       "    </tr>\n",
       "    <tr>\n",
       "      <th>3</th>\n",
       "      <td>għan</td>\n",
       "      <td>11438</td>\n",
       "      <td>4.340268e-04</td>\n",
       "    </tr>\n",
       "    <tr>\n",
       "      <th>4</th>\n",
       "      <td>prinċipali</td>\n",
       "      <td>4320</td>\n",
       "      <td>1.639269e-04</td>\n",
       "    </tr>\n",
       "    <tr>\n",
       "      <th>...</th>\n",
       "      <td>...</td>\n",
       "      <td>...</td>\n",
       "      <td>...</td>\n",
       "    </tr>\n",
       "    <tr>\n",
       "      <th>108415</th>\n",
       "      <td>231.41</td>\n",
       "      <td>5</td>\n",
       "      <td>1.897302e-07</td>\n",
       "    </tr>\n",
       "    <tr>\n",
       "      <th>108416</th>\n",
       "      <td>irritar</td>\n",
       "      <td>3</td>\n",
       "      <td>1.138381e-07</td>\n",
       "    </tr>\n",
       "    <tr>\n",
       "      <th>108417</th>\n",
       "      <td>mrara</td>\n",
       "      <td>3</td>\n",
       "      <td>1.138381e-07</td>\n",
       "    </tr>\n",
       "    <tr>\n",
       "      <th>108418</th>\n",
       "      <td>sapuri</td>\n",
       "      <td>3</td>\n",
       "      <td>1.138381e-07</td>\n",
       "    </tr>\n",
       "    <tr>\n",
       "      <th>108419</th>\n",
       "      <td>327.193</td>\n",
       "      <td>3</td>\n",
       "      <td>1.138381e-07</td>\n",
       "    </tr>\n",
       "  </tbody>\n",
       "</table>\n",
       "<p>108419 rows × 3 columns</p>\n",
       "</div>"
      ],
      "text/plain": [
       "           Unigram  Frequency   Probability\n",
       "0            <UNK>     211612  8.029837e-03\n",
       "1              <s>    1032840  3.919218e-02\n",
       "2               L-     109821  4.167272e-03\n",
       "3             għan      11438  4.340268e-04\n",
       "4       prinċipali       4320  1.639269e-04\n",
       "...            ...        ...           ...\n",
       "108415      231.41          5  1.897302e-07\n",
       "108416     irritar          3  1.138381e-07\n",
       "108417       mrara          3  1.138381e-07\n",
       "108418      sapuri          3  1.138381e-07\n",
       "108419     327.193          3  1.138381e-07\n",
       "\n",
       "[108419 rows x 3 columns]"
      ]
     },
     "execution_count": 12,
     "metadata": {},
     "output_type": "execute_result"
    }
   ],
   "source": [
    "#Sum frequencies for all word with frequency less than 3.\n",
    "\n",
    "#Load vanilla unigram.\n",
    "df_unigram = pd.read_csv(os.path.join(vanilla,'unigram.csv'))\n",
    "\n",
    "#Calculate Frequency and Probability.\n",
    "condition = df_unigram['Frequency'] < 3\n",
    "\n",
    "unk_frequency = df_unigram[condition].Frequency.sum()\n",
    "unk_probability = unk_frequency/word_count\n",
    "\n",
    "#Remove the words that occure less than 3 times.\n",
    "df_unigram = df_unigram.drop(df_unigram[condition].index)\n",
    "\n",
    "#Add the <UNK> token.\n",
    "df_unk = pd.DataFrame({'Unigram': '<UNK>', 'Frequency': unk_frequency, 'Probability': unk_probability}\n",
    "                   ,index=[0])\n",
    "df_unigram = pd.concat([df_unk,df_unigram], ignore_index = True)\n",
    "\n",
    "df_unigram = df_unigram.dropna()\n",
    "\n",
    "#Save model.\n",
    "df_unigram.to_csv(os.path.join(unk,'unigram.csv'), index=False)\n",
    "dict_unigram = df_unigram.set_index('Unigram').T.to_dict('list')\n",
    "\n",
    "#Replace low frequency words with <UNK>\n",
    "\n",
    "for i in range(len(words)):\n",
    "    #If the word is not in dict_unigram then it means it was removed and set to <UNK>\n",
    "    if words[i] not in dict_unigram:\n",
    "        words[i] = '<UNK>'\n",
    "\n",
    "\n",
    "df_unigram"
   ]
  },
  {
   "cell_type": "markdown",
   "id": "2cc3a710",
   "metadata": {},
   "source": [
    "Then we recalculate the Bigram and Trigram based on this \\<UNK> unigram"
   ]
  },
  {
   "cell_type": "markdown",
   "id": "41801fa8",
   "metadata": {},
   "source": [
    "#### Bigram"
   ]
  },
  {
   "cell_type": "code",
   "execution_count": 13,
   "id": "986ec4ce",
   "metadata": {},
   "outputs": [
    {
     "name": "stdout",
     "output_type": "stream",
     "text": [
      "Finished!\n"
     ]
    }
   ],
   "source": [
    "df_bigram = calculate_bigram(words, dict_unigram)"
   ]
  },
  {
   "cell_type": "code",
   "execution_count": 14,
   "id": "a4dd4940",
   "metadata": {},
   "outputs": [
    {
     "data": {
      "text/html": [
       "<div>\n",
       "<style scoped>\n",
       "    .dataframe tbody tr th:only-of-type {\n",
       "        vertical-align: middle;\n",
       "    }\n",
       "\n",
       "    .dataframe tbody tr th {\n",
       "        vertical-align: top;\n",
       "    }\n",
       "\n",
       "    .dataframe thead th {\n",
       "        text-align: right;\n",
       "    }\n",
       "</style>\n",
       "<table border=\"1\" class=\"dataframe\">\n",
       "  <thead>\n",
       "    <tr style=\"text-align: right;\">\n",
       "      <th></th>\n",
       "      <th>Bigram</th>\n",
       "      <th>Frequency</th>\n",
       "      <th>Probability</th>\n",
       "    </tr>\n",
       "  </thead>\n",
       "  <tbody>\n",
       "    <tr>\n",
       "      <th>0</th>\n",
       "      <td>&lt;s&gt;;L-</td>\n",
       "      <td>91248</td>\n",
       "      <td>8.834669e-02</td>\n",
       "    </tr>\n",
       "    <tr>\n",
       "      <th>1</th>\n",
       "      <td>L-;għan</td>\n",
       "      <td>832</td>\n",
       "      <td>7.575965e-03</td>\n",
       "    </tr>\n",
       "    <tr>\n",
       "      <th>2</th>\n",
       "      <td>għan;prinċipali</td>\n",
       "      <td>57</td>\n",
       "      <td>4.983389e-03</td>\n",
       "    </tr>\n",
       "    <tr>\n",
       "      <th>3</th>\n",
       "      <td>prinċipali;ta'</td>\n",
       "      <td>583</td>\n",
       "      <td>1.349537e-01</td>\n",
       "    </tr>\n",
       "    <tr>\n",
       "      <th>4</th>\n",
       "      <td>ta';Conectando</td>\n",
       "      <td>1</td>\n",
       "      <td>9.329498e-07</td>\n",
       "    </tr>\n",
       "    <tr>\n",
       "      <th>...</th>\n",
       "      <td>...</td>\n",
       "      <td>...</td>\n",
       "      <td>...</td>\n",
       "    </tr>\n",
       "    <tr>\n",
       "      <th>2612604</th>\n",
       "      <td>Klassi;fl-</td>\n",
       "      <td>1</td>\n",
       "      <td>9.541985e-04</td>\n",
       "    </tr>\n",
       "    <tr>\n",
       "      <th>2612605</th>\n",
       "      <td>kors;studju</td>\n",
       "      <td>1</td>\n",
       "      <td>3.588088e-04</td>\n",
       "    </tr>\n",
       "    <tr>\n",
       "      <th>2612606</th>\n",
       "      <td>327.193;ħ</td>\n",
       "      <td>1</td>\n",
       "      <td>3.333333e-01</td>\n",
       "    </tr>\n",
       "    <tr>\n",
       "      <th>2612607</th>\n",
       "      <td>ECON;it-</td>\n",
       "      <td>1</td>\n",
       "      <td>1.428571e-01</td>\n",
       "    </tr>\n",
       "    <tr>\n",
       "      <th>2612608</th>\n",
       "      <td>Kwalifika;għall-</td>\n",
       "      <td>1</td>\n",
       "      <td>6.666667e-02</td>\n",
       "    </tr>\n",
       "  </tbody>\n",
       "</table>\n",
       "<p>2612609 rows × 3 columns</p>\n",
       "</div>"
      ],
      "text/plain": [
       "                   Bigram  Frequency   Probability\n",
       "0                  <s>;L-      91248  8.834669e-02\n",
       "1                 L-;għan        832  7.575965e-03\n",
       "2         għan;prinċipali         57  4.983389e-03\n",
       "3          prinċipali;ta'        583  1.349537e-01\n",
       "4          ta';Conectando          1  9.329498e-07\n",
       "...                   ...        ...           ...\n",
       "2612604        Klassi;fl-          1  9.541985e-04\n",
       "2612605       kors;studju          1  3.588088e-04\n",
       "2612606         327.193;ħ          1  3.333333e-01\n",
       "2612607          ECON;it-          1  1.428571e-01\n",
       "2612608  Kwalifika;għall-          1  6.666667e-02\n",
       "\n",
       "[2612609 rows x 3 columns]"
      ]
     },
     "execution_count": 14,
     "metadata": {},
     "output_type": "execute_result"
    }
   ],
   "source": [
    "df_bigram.to_csv(os.path.join(unk,'bigram.csv'), index=False)\n",
    "dict_bigram = df_bigram.set_index('Bigram').T.to_dict('list')\n",
    "\n",
    "df_bigram"
   ]
  },
  {
   "cell_type": "markdown",
   "id": "40795428",
   "metadata": {},
   "source": [
    "#### Trigram"
   ]
  },
  {
   "cell_type": "code",
   "execution_count": 15,
   "id": "81466a71",
   "metadata": {},
   "outputs": [
    {
     "name": "stdout",
     "output_type": "stream",
     "text": [
      "Finished!\n",
      "Wall time: 54.8 s\n"
     ]
    }
   ],
   "source": [
    "%%time\n",
    "\n",
    "df_trigram = calculate_trigram(words, dict_bigram)"
   ]
  },
  {
   "cell_type": "code",
   "execution_count": 16,
   "id": "ce0f0419",
   "metadata": {},
   "outputs": [
    {
     "data": {
      "text/html": [
       "<div>\n",
       "<style scoped>\n",
       "    .dataframe tbody tr th:only-of-type {\n",
       "        vertical-align: middle;\n",
       "    }\n",
       "\n",
       "    .dataframe tbody tr th {\n",
       "        vertical-align: top;\n",
       "    }\n",
       "\n",
       "    .dataframe thead th {\n",
       "        text-align: right;\n",
       "    }\n",
       "</style>\n",
       "<table border=\"1\" class=\"dataframe\">\n",
       "  <thead>\n",
       "    <tr style=\"text-align: right;\">\n",
       "      <th></th>\n",
       "      <th>Trigram</th>\n",
       "      <th>Frequency</th>\n",
       "      <th>Probability</th>\n",
       "    </tr>\n",
       "  </thead>\n",
       "  <tbody>\n",
       "    <tr>\n",
       "      <th>0</th>\n",
       "      <td>&lt;s&gt;;L-;għan</td>\n",
       "      <td>779</td>\n",
       "      <td>0.008537</td>\n",
       "    </tr>\n",
       "    <tr>\n",
       "      <th>1</th>\n",
       "      <td>L-;għan;prinċipali</td>\n",
       "      <td>24</td>\n",
       "      <td>0.028846</td>\n",
       "    </tr>\n",
       "    <tr>\n",
       "      <th>2</th>\n",
       "      <td>għan;prinċipali;ta'</td>\n",
       "      <td>14</td>\n",
       "      <td>0.245614</td>\n",
       "    </tr>\n",
       "    <tr>\n",
       "      <th>3</th>\n",
       "      <td>prinċipali;ta';Conectando</td>\n",
       "      <td>1</td>\n",
       "      <td>0.001715</td>\n",
       "    </tr>\n",
       "    <tr>\n",
       "      <th>4</th>\n",
       "      <td>ta';Conectando;Mundos</td>\n",
       "      <td>1</td>\n",
       "      <td>1.000000</td>\n",
       "    </tr>\n",
       "    <tr>\n",
       "      <th>...</th>\n",
       "      <td>...</td>\n",
       "      <td>...</td>\n",
       "      <td>...</td>\n",
       "    </tr>\n",
       "    <tr>\n",
       "      <th>8332346</th>\n",
       "      <td>kredtu;għandhom;&lt;UNK&gt;</td>\n",
       "      <td>1</td>\n",
       "      <td>0.076923</td>\n",
       "    </tr>\n",
       "    <tr>\n",
       "      <th>8332347</th>\n",
       "      <td>għat-;tliet;taqsimiet</td>\n",
       "      <td>1</td>\n",
       "      <td>0.009901</td>\n",
       "    </tr>\n",
       "    <tr>\n",
       "      <th>8332348</th>\n",
       "      <td>tliet;taqsimiet;studju</td>\n",
       "      <td>1</td>\n",
       "      <td>0.071429</td>\n",
       "    </tr>\n",
       "    <tr>\n",
       "      <th>8332349</th>\n",
       "      <td>anqas;4;kredti</td>\n",
       "      <td>1</td>\n",
       "      <td>0.125000</td>\n",
       "    </tr>\n",
       "    <tr>\n",
       "      <th>8332350</th>\n",
       "      <td>4;kredti;għat-</td>\n",
       "      <td>1</td>\n",
       "      <td>0.142857</td>\n",
       "    </tr>\n",
       "  </tbody>\n",
       "</table>\n",
       "<p>8332351 rows × 3 columns</p>\n",
       "</div>"
      ],
      "text/plain": [
       "                           Trigram  Frequency  Probability\n",
       "0                      <s>;L-;għan        779     0.008537\n",
       "1               L-;għan;prinċipali         24     0.028846\n",
       "2              għan;prinċipali;ta'         14     0.245614\n",
       "3        prinċipali;ta';Conectando          1     0.001715\n",
       "4            ta';Conectando;Mundos          1     1.000000\n",
       "...                            ...        ...          ...\n",
       "8332346      kredtu;għandhom;<UNK>          1     0.076923\n",
       "8332347      għat-;tliet;taqsimiet          1     0.009901\n",
       "8332348     tliet;taqsimiet;studju          1     0.071429\n",
       "8332349             anqas;4;kredti          1     0.125000\n",
       "8332350             4;kredti;għat-          1     0.142857\n",
       "\n",
       "[8332351 rows x 3 columns]"
      ]
     },
     "execution_count": 16,
     "metadata": {},
     "output_type": "execute_result"
    }
   ],
   "source": [
    "df_trigram.to_csv(os.path.join(unk,'trigram.csv'), index=False)\n",
    "\n",
    "df_trigram"
   ]
  }
 ],
 "metadata": {
  "kernelspec": {
   "display_name": "ari2203-venv",
   "language": "python",
   "name": "ari2203-venv"
  },
  "language_info": {
   "codemirror_mode": {
    "name": "ipython",
    "version": 3
   },
   "file_extension": ".py",
   "mimetype": "text/x-python",
   "name": "python",
   "nbconvert_exporter": "python",
   "pygments_lexer": "ipython3",
   "version": "3.8.5"
  }
 },
 "nbformat": 4,
 "nbformat_minor": 5
}
