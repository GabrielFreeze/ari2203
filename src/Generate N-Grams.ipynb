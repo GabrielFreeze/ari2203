{
 "cells": [
  {
   "cell_type": "markdown",
   "id": "2ed43c0e",
   "metadata": {},
   "source": [
    "# Generating the N-Gram Models"
   ]
  },
  {
   "cell_type": "markdown",
   "id": "a577d08e",
   "metadata": {},
   "source": [
    "An N-Gram model is simply an enumeration of n-pairs of words, their frequency and probability. The ngrams will be represented in a csv spreadsheet. This is so they are compatible with Pandas and we do not have to recompute them each time we wish to use them.\n",
    "\n",
    "There are 3 models in total: Vanilla, Laplace and UNK. The Laplace model will include an occurence of every possible combination of n words known in the corpus. Saving such a model would be slow and wasteful. During text generation and perplexity calculation the laplace model will make use of the vanilla model and if an unkown sequence of words is encountered, then we perform laplace smoothing."
   ]
  },
  {
   "cell_type": "code",
   "execution_count": 1,
   "id": "28a5397a",
   "metadata": {},
   "outputs": [],
   "source": [
    "import os\n",
    "import pandas as pd\n",
    "import seaborn as sns"
   ]
  },
  {
   "cell_type": "code",
   "execution_count": 2,
   "id": "0d797cf7",
   "metadata": {},
   "outputs": [],
   "source": [
    "folder = os.path.join(os.getcwd(),'..','data','korpus')\n",
    "\n",
    "vanilla = os.path.join(os.getcwd(),'..','data','korpus','ngram','vanilla')\n",
    "laplace = os.path.join(os.getcwd(),'..','data','korpus','ngram','laplace')\n",
    "unk = os.path.join(os.getcwd(),'..','data','korpus','ngram','unk')"
   ]
  },
  {
   "cell_type": "markdown",
   "id": "2a916a87",
   "metadata": {},
   "source": [
    "### Generating Vanilla Language Model"
   ]
  },
  {
   "cell_type": "markdown",
   "id": "9c757005",
   "metadata": {},
   "source": [
    "The vanilla models will be implemented by first counting the frequency of the ngrams (sequence of n words) within the korpus. Then the probabiltiies will be calculated."
   ]
  },
  {
   "cell_type": "markdown",
   "id": "3c4441cc",
   "metadata": {},
   "source": [
    "Bigrams and Trigrams make use of the previous ngram (Unigram and Bigram respectively). Hence when the unigram or bigram is generated, a dictionary is created by using Pandas df.to_dict. This is so to facilitate O(1) access time when searching."
   ]
  },
  {
   "cell_type": "code",
   "execution_count": 4,
   "id": "fafb3614",
   "metadata": {},
   "outputs": [],
   "source": [
    "df = pd.read_csv(os.path.join(folder,'korpus.csv'))\n",
    "\n",
    "word_count = pd.read_csv(os.path.join(folder,'korpus_frequency.csv'))['Frequency'].sum()\n",
    "words = df['Word'].to_numpy()\n"
   ]
  },
  {
   "cell_type": "markdown",
   "id": "782b527b",
   "metadata": {},
   "source": [
    "#### Unigram"
   ]
  },
  {
   "cell_type": "code",
   "execution_count": 5,
   "id": "7d3311f4",
   "metadata": {},
   "outputs": [
    {
     "name": "stdout",
     "output_type": "stream",
     "text": [
      "Finished!\n",
      "Wall time: 43.5 s\n"
     ]
    }
   ],
   "source": [
    "%%time\n",
    "\n",
    "#Calculating frequencies\n",
    "\n",
    "def calcualte_unigram(words, word_count: int):\n",
    "    unigram = {}\n",
    "    \n",
    "    #Calculating frequency.\n",
    "    for i in range(len(words)):\n",
    "        first  = words[i]\n",
    "\n",
    "        if f'{first}' in unigram:\n",
    "            unigram[f'{first}'] += 1\n",
    "        else:\n",
    "            unigram[f'{first}'] = 1\n",
    "            \n",
    "    df_unigram = pd.DataFrame(unigram.items(), columns=['Unigram', 'Frequency'])\n",
    "    \n",
    "    #Calculating probability.\n",
    "    df_unigram['Probability'] = [freq/word_count for freq in unigram.values()]\n",
    "    df_uniram = df_unigram.dropna()\n",
    "    print('Finished!')\n",
    "    return df_unigram\n",
    "\n",
    "\n",
    "df_unigram = calcualte_unigram(words, word_count)"
   ]
  },
  {
   "cell_type": "code",
   "execution_count": 6,
   "id": "a18aaf28",
   "metadata": {},
   "outputs": [
    {
     "name": "stdout",
     "output_type": "stream",
     "text": [
      "Wall time: 18.9 s\n"
     ]
    }
   ],
   "source": [
    "%%time\n",
    "#Saving unigram\n",
    "dict_unigram = df_unigram.set_index('Unigram').T.to_dict('list')\n",
    "df_unigram.to_csv(os.path.join(vanilla,'unigram.csv'), index=False)"
   ]
  },
  {
   "cell_type": "markdown",
   "id": "d8b3e666",
   "metadata": {},
   "source": [
    "#### Bigram"
   ]
  },
  {
   "cell_type": "code",
   "execution_count": 8,
   "id": "d2997882",
   "metadata": {},
   "outputs": [
    {
     "name": "stdout",
     "output_type": "stream",
     "text": [
      "Finished!\n"
     ]
    }
   ],
   "source": [
    "#Bigram\n",
    "def calculate_bigram(words, unigram: dict): \n",
    "    bigram = {}\n",
    "\n",
    "    #Calculate frequency.\n",
    "    for i in range(len(words)-1):\n",
    "        first  = words[i]\n",
    "        second = words[i+1]\n",
    "        \n",
    "        if f'{first};{second}' in bigram:\n",
    "            bigram[f'{first};{second}'] += 1\n",
    "        else:\n",
    "            bigram[f'{first};{second}'] = 1        \n",
    "    \n",
    "    df_bigram = pd.DataFrame(bigram.items(), columns=['Bigram', 'Frequency'])\n",
    "    \n",
    "#     df_bigram['Probability'] = [bi_freq/unigram[bi.split(';')[0]][0] for bi,bi_freq in bigram.items()]\n",
    "    \n",
    "    x = []\n",
    "    for i,(bi,bi_freq) in enumerate(bigram.items()):\n",
    "        try:\n",
    "            x.append(bi_freq/unigram[bi.split(';')[0]][0])\n",
    "        except Exception: x.append(1)\n",
    "        \n",
    "    df_bigram['Probability'] = x\n",
    "    \n",
    "    \n",
    "    print('Finished!')\n",
    "    return df_bigram\n",
    "    \n",
    "df_bigram = calculate_bigram(words, dict_unigram)\n"
   ]
  },
  {
   "cell_type": "code",
   "execution_count": 9,
   "id": "50fc69db",
   "metadata": {},
   "outputs": [
    {
     "data": {
      "text/html": [
       "<div>\n",
       "<style scoped>\n",
       "    .dataframe tbody tr th:only-of-type {\n",
       "        vertical-align: middle;\n",
       "    }\n",
       "\n",
       "    .dataframe tbody tr th {\n",
       "        vertical-align: top;\n",
       "    }\n",
       "\n",
       "    .dataframe thead th {\n",
       "        text-align: right;\n",
       "    }\n",
       "</style>\n",
       "<table border=\"1\" class=\"dataframe\">\n",
       "  <thead>\n",
       "    <tr style=\"text-align: right;\">\n",
       "      <th></th>\n",
       "      <th>Bigram</th>\n",
       "      <th>Frequency</th>\n",
       "      <th>Probability</th>\n",
       "    </tr>\n",
       "  </thead>\n",
       "  <tbody>\n",
       "    <tr>\n",
       "      <th>0</th>\n",
       "      <td>&lt;s&gt;;L-</td>\n",
       "      <td>277539</td>\n",
       "      <td>5.795826e-02</td>\n",
       "    </tr>\n",
       "    <tr>\n",
       "      <th>1</th>\n",
       "      <td>L-;għan</td>\n",
       "      <td>2976</td>\n",
       "      <td>9.152558e-03</td>\n",
       "    </tr>\n",
       "    <tr>\n",
       "      <th>2</th>\n",
       "      <td>għan;prinċipali</td>\n",
       "      <td>396</td>\n",
       "      <td>1.182513e-02</td>\n",
       "    </tr>\n",
       "    <tr>\n",
       "      <th>3</th>\n",
       "      <td>prinċipali;ta'</td>\n",
       "      <td>1319</td>\n",
       "      <td>1.077526e-01</td>\n",
       "    </tr>\n",
       "    <tr>\n",
       "      <th>4</th>\n",
       "      <td>ta';Conectando</td>\n",
       "      <td>1</td>\n",
       "      <td>3.734804e-07</td>\n",
       "    </tr>\n",
       "    <tr>\n",
       "      <th>...</th>\n",
       "      <td>...</td>\n",
       "      <td>...</td>\n",
       "      <td>...</td>\n",
       "    </tr>\n",
       "    <tr>\n",
       "      <th>8654882</th>\n",
       "      <td>Personalment;irrid</td>\n",
       "      <td>1</td>\n",
       "      <td>8.912656e-04</td>\n",
       "    </tr>\n",
       "    <tr>\n",
       "      <th>8654883</th>\n",
       "      <td>se;nsellmu</td>\n",
       "      <td>1</td>\n",
       "      <td>2.835801e-06</td>\n",
       "    </tr>\n",
       "    <tr>\n",
       "      <th>8654884</th>\n",
       "      <td>xulxin;jibgħat</td>\n",
       "      <td>1</td>\n",
       "      <td>7.336757e-05</td>\n",
       "    </tr>\n",
       "    <tr>\n",
       "      <th>8654885</th>\n",
       "      <td>\";Inselli</td>\n",
       "      <td>1</td>\n",
       "      <td>3.789817e-06</td>\n",
       "    </tr>\n",
       "    <tr>\n",
       "      <th>8654886</th>\n",
       "      <td>Inselli;għalikom</td>\n",
       "      <td>1</td>\n",
       "      <td>5.000000e-02</td>\n",
       "    </tr>\n",
       "  </tbody>\n",
       "</table>\n",
       "<p>8654887 rows × 3 columns</p>\n",
       "</div>"
      ],
      "text/plain": [
       "                     Bigram  Frequency   Probability\n",
       "0                    <s>;L-     277539  5.795826e-02\n",
       "1                   L-;għan       2976  9.152558e-03\n",
       "2           għan;prinċipali        396  1.182513e-02\n",
       "3            prinċipali;ta'       1319  1.077526e-01\n",
       "4            ta';Conectando          1  3.734804e-07\n",
       "...                     ...        ...           ...\n",
       "8654882  Personalment;irrid          1  8.912656e-04\n",
       "8654883          se;nsellmu          1  2.835801e-06\n",
       "8654884      xulxin;jibgħat          1  7.336757e-05\n",
       "8654885           \";Inselli          1  3.789817e-06\n",
       "8654886    Inselli;għalikom          1  5.000000e-02\n",
       "\n",
       "[8654887 rows x 3 columns]"
      ]
     },
     "execution_count": 9,
     "metadata": {},
     "output_type": "execute_result"
    }
   ],
   "source": [
    "df_bigram"
   ]
  },
  {
   "cell_type": "code",
   "execution_count": null,
   "id": "4d72fef0",
   "metadata": {},
   "outputs": [],
   "source": [
    "#Saving bigram\n",
    "\n",
    "dict_bigram = df_bigram.set_index('Bigram').T.to_dict('list')\n",
    "df_bigram.to_csv(os.path.join(vanilla,'bigram.csv'), index=False)"
   ]
  },
  {
   "cell_type": "markdown",
   "id": "f3809514",
   "metadata": {},
   "source": [
    "#### Trigram"
   ]
  },
  {
   "cell_type": "code",
   "execution_count": null,
   "id": "7b9c2d78",
   "metadata": {},
   "outputs": [],
   "source": [
    "%%time\n",
    "\n",
    "def calculate_trigram(words, bigram: dict): \n",
    "    trigram = {}\n",
    "\n",
    "    #Calculate frequency.\n",
    "    for i in range(len(words)-2):\n",
    "        first  = words[i]\n",
    "        second = words[i+1]\n",
    "        third = words[i+2]\n",
    "\n",
    "        if f'{first};{second};{third}' in trigram:\n",
    "            trigram[f'{first};{second};{third}'] += 1\n",
    "        else:\n",
    "            trigram[f'{first};{second};{third}'] = 1\n",
    "            \n",
    "            \n",
    "    df_trigram = pd.DataFrame(trigram.items(), columns=['Trigram', 'Frequency'])\n",
    "    \n",
    "    #Calculate probability.\n",
    "    probability = []\n",
    "\n",
    "    for tri,tri_freq in trigram.items():\n",
    "        first,second = tri.split(';')[:2]\n",
    "        bi_freq = dict_bigram[f'{first};{second}'][0]\n",
    "        probability.append(tri_freq/bi_freq)\n",
    "\n",
    "    df_trigram['Probability'] = probability\n",
    "    \n",
    "    print('Finished!')\n",
    "    return df_trigram\n",
    "\n",
    "df_trigram = calculate_trigram(words, dict_bigram)"
   ]
  },
  {
   "cell_type": "code",
   "execution_count": null,
   "id": "8da915b2",
   "metadata": {},
   "outputs": [],
   "source": [
    "df_trigram"
   ]
  },
  {
   "cell_type": "code",
   "execution_count": null,
   "id": "2f361683",
   "metadata": {},
   "outputs": [],
   "source": [
    "#Saving trigram\n",
    "df_trigram.to_csv(os.path.join(vanilla,'trigram.csv'), index=False)"
   ]
  },
  {
   "cell_type": "markdown",
   "id": "66403e4f",
   "metadata": {},
   "source": [
    "### Generate UNK Model"
   ]
  },
  {
   "cell_type": "markdown",
   "id": "a935d2be",
   "metadata": {},
   "source": [
    "To generate the UNK model, first we remove all words in the vanilla unigram model that have a frequency of 2 or less. We create an extra token called \\<UNK> that will represent all the removed words. The frequency of the \\<UNK> willbe the sum of the frequency of the removed words."
   ]
  },
  {
   "cell_type": "markdown",
   "id": "0ee16239",
   "metadata": {},
   "source": [
    "#### Unigram"
   ]
  },
  {
   "cell_type": "code",
   "execution_count": null,
   "id": "756c1add",
   "metadata": {},
   "outputs": [],
   "source": [
    "#Sum frequencies for all word with frequency less than 3.\n",
    "\n",
    "#Load vanilla unigram.\n",
    "df_unigram = pd.read_csv(os.path.join(vanilla,'unigram.csv'))\n",
    "\n",
    "#Calculate Frequency and Probability.\n",
    "condition = df_unigram['Frequency'] < 3\n",
    "\n",
    "unk_frequency = df_unigram[condition].Frequency.sum()\n",
    "unk_probability = unk_frequency/word_count\n",
    "\n",
    "#Remove the words that occure less than 3 times.\n",
    "df_unigram = df_unigram.drop(df_unigram[condition].index)\n",
    "\n",
    "#Add the <UNK> token.\n",
    "df_unk = pd.DataFrame({'Unigram': '<UNK>', 'Frequency': unk_frequency, 'Probability': unk_probability}\n",
    "                   ,index=[0])\n",
    "df_unigram = pd.concat([df_unk,df_unigram], ignore_index = True)\n",
    "\n",
    "df_unigram = df_unigram.dropna()\n",
    "\n",
    "#Save model.\n",
    "df_unigram.to_csv(os.path.join(unk,'unigram.csv'), index=False)\n",
    "dict_unigram = df_unigram.set_index('Unigram').T.to_dict('list')\n",
    "\n",
    "#Replace low frequency words with <UNK>\n",
    "\n",
    "for i in range(len(words)):\n",
    "    #If the word is not in dict_unigram then it means it was removed and set to <UNK>\n",
    "    if words[i] not in dict_unigram:\n",
    "        words[i] = '<UNK>'\n",
    "\n",
    "\n",
    "df_unigram"
   ]
  },
  {
   "cell_type": "markdown",
   "id": "2cc3a710",
   "metadata": {},
   "source": [
    "Then we recalculate the Bigram and Trigram based on this \\<UNK> unigram"
   ]
  },
  {
   "cell_type": "markdown",
   "id": "41801fa8",
   "metadata": {},
   "source": [
    "#### Bigram"
   ]
  },
  {
   "cell_type": "code",
   "execution_count": null,
   "id": "986ec4ce",
   "metadata": {},
   "outputs": [],
   "source": [
    "df_bigram = calculate_bigram(words, dict_unigram)"
   ]
  },
  {
   "cell_type": "code",
   "execution_count": null,
   "id": "a4dd4940",
   "metadata": {},
   "outputs": [],
   "source": [
    "df_bigram.to_csv(os.path.join(unk,'bigram.csv'), index=False)\n",
    "dict_bigram = df_bigram.set_index('Bigram').T.to_dict('list')\n",
    "\n",
    "df_bigram"
   ]
  },
  {
   "cell_type": "markdown",
   "id": "40795428",
   "metadata": {},
   "source": [
    "#### Trigram"
   ]
  },
  {
   "cell_type": "code",
   "execution_count": null,
   "id": "81466a71",
   "metadata": {},
   "outputs": [],
   "source": [
    "%%time\n",
    "\n",
    "df_trigram = calculate_trigram(words, dict_bigram)"
   ]
  },
  {
   "cell_type": "code",
   "execution_count": null,
   "id": "ce0f0419",
   "metadata": {},
   "outputs": [],
   "source": [
    "df_trigram.to_csv(os.path.join(unk,'trigram.csv'), index=False)\n",
    "\n",
    "df_trigram"
   ]
  }
 ],
 "metadata": {
  "kernelspec": {
   "display_name": "ari2203-venv",
   "language": "python",
   "name": "ari2203-venv"
  },
  "language_info": {
   "codemirror_mode": {
    "name": "ipython",
    "version": 3
   },
   "file_extension": ".py",
   "mimetype": "text/x-python",
   "name": "python",
   "nbconvert_exporter": "python",
   "pygments_lexer": "ipython3",
   "version": "3.8.5"
  }
 },
 "nbformat": 4,
 "nbformat_minor": 5
}
